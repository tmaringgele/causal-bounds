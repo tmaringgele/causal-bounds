{
 "cells": [
  {
   "cell_type": "code",
   "execution_count": 6,
   "id": "3543c3e0",
   "metadata": {},
   "outputs": [
    {
     "name": "stdout",
     "output_type": "stream",
     "text": [
      "The autoreload extension is already loaded. To reload it, use:\n",
      "  %reload_ext autoreload\n"
     ]
    }
   ],
   "source": [
    "import sys, os\n",
    "\n",
    "\n",
    "\n",
    "%load_ext autoreload\n",
    "%autoreload 2\n",
    "\n",
    "import sys\n",
    "sys.path.append(\"..\")\n",
    "\n",
    "import os\n",
    "os.environ['R_HOME'] = 'D:/Program Files/R-4.5.0' #@TODO include in some setup file\n",
    "\n",
    "from simulation_engine.scenarios.iv.binary_iv import BinaryIV\n",
    "from simulation_engine.scenarios.conf.binary_conf import BinaryConf\n",
    "from simulation_engine.scenarios.iv.continuous_iv import ContinuousIV\n",
    "from simulation_engine.scenarios.customDAG.customBinaryDAG import CustomBinaryDAG\n",
    "from simulation_engine.util.plotting_util import PlottingUtil\n",
    "from simulation_engine.algorithms.causaloptim import Causaloptim\n",
    "from simulation_engine.algorithms.zhang_bareinboim import ZhangBareinboim\n",
    "from simulation_engine.algorithms.apid import Apid\n",
    "from simulation_engine.algorithms.autobound import AutoBound\n",
    "from simulation_engine.algorithms.apid_src.src.models.apid import APID\n",
    "\n",
    "import pandas as pd\n",
    "pd.set_option('display.max_columns', None)\n",
    "\n",
    "#disable warnings\n",
    "import warnings\n",
    "warnings.simplefilter(action='ignore', category=FutureWarning)\n",
    "\n",
    "from simulation_engine.algorithms.zaffalonbounds import ZaffalonBounds\n",
    "from hydra import compose, initialize\n",
    "from omegaconf import OmegaConf"
   ]
  },
  {
   "cell_type": "code",
   "execution_count": 39,
   "id": "b2e4135a",
   "metadata": {},
   "outputs": [
    {
     "data": {
      "text/html": [
       "<div>\n",
       "<style scoped>\n",
       "    .dataframe tbody tr th:only-of-type {\n",
       "        vertical-align: middle;\n",
       "    }\n",
       "\n",
       "    .dataframe tbody tr th {\n",
       "        vertical-align: top;\n",
       "    }\n",
       "\n",
       "    .dataframe thead th {\n",
       "        text-align: right;\n",
       "    }\n",
       "</style>\n",
       "<table border=\"1\" class=\"dataframe\">\n",
       "  <thead>\n",
       "    <tr style=\"text-align: right;\">\n",
       "      <th></th>\n",
       "      <th>Y</th>\n",
       "      <th>X</th>\n",
       "    </tr>\n",
       "  </thead>\n",
       "  <tbody>\n",
       "    <tr>\n",
       "      <th>0</th>\n",
       "      <td>1</td>\n",
       "      <td>1</td>\n",
       "    </tr>\n",
       "    <tr>\n",
       "      <th>1</th>\n",
       "      <td>0</td>\n",
       "      <td>0</td>\n",
       "    </tr>\n",
       "    <tr>\n",
       "      <th>2</th>\n",
       "      <td>0</td>\n",
       "      <td>0</td>\n",
       "    </tr>\n",
       "    <tr>\n",
       "      <th>3</th>\n",
       "      <td>0</td>\n",
       "      <td>0</td>\n",
       "    </tr>\n",
       "    <tr>\n",
       "      <th>4</th>\n",
       "      <td>0</td>\n",
       "      <td>0</td>\n",
       "    </tr>\n",
       "    <tr>\n",
       "      <th>...</th>\n",
       "      <td>...</td>\n",
       "      <td>...</td>\n",
       "    </tr>\n",
       "    <tr>\n",
       "      <th>495</th>\n",
       "      <td>1</td>\n",
       "      <td>0</td>\n",
       "    </tr>\n",
       "    <tr>\n",
       "      <th>496</th>\n",
       "      <td>1</td>\n",
       "      <td>1</td>\n",
       "    </tr>\n",
       "    <tr>\n",
       "      <th>497</th>\n",
       "      <td>1</td>\n",
       "      <td>0</td>\n",
       "    </tr>\n",
       "    <tr>\n",
       "      <th>498</th>\n",
       "      <td>1</td>\n",
       "      <td>1</td>\n",
       "    </tr>\n",
       "    <tr>\n",
       "      <th>499</th>\n",
       "      <td>1</td>\n",
       "      <td>1</td>\n",
       "    </tr>\n",
       "  </tbody>\n",
       "</table>\n",
       "<p>500 rows × 2 columns</p>\n",
       "</div>"
      ],
      "text/plain": [
       "     Y  X\n",
       "0    1  1\n",
       "1    0  0\n",
       "2    0  0\n",
       "3    0  0\n",
       "4    0  0\n",
       "..  .. ..\n",
       "495  1  0\n",
       "496  1  1\n",
       "497  1  0\n",
       "498  1  1\n",
       "499  1  1\n",
       "\n",
       "[500 rows x 2 columns]"
      ]
     },
     "execution_count": 39,
     "metadata": {},
     "output_type": "execute_result"
    }
   ],
   "source": [
    "sim = BinaryConf._generate_data(\n",
    "    n=500\n",
    ")\n",
    "dataConf = pd.DataFrame({'Y': sim['Y'], 'X': sim['X']})\n",
    "dataConf"
   ]
  },
  {
   "cell_type": "code",
   "execution_count": 43,
   "id": "a6c6414e",
   "metadata": {},
   "outputs": [
    {
     "data": {
      "text/plain": [
       "(-0.442, 0.558)"
      ]
     },
     "execution_count": 43,
     "metadata": {},
     "output_type": "execute_result"
    }
   ],
   "source": [
    "AutoBound.bound(query='ATE', \n",
    "                dagstring='X->Y, U -> X, U -> Y' ,\n",
    "                data=dataConf, \n",
    "                observed=['X', 'Y'], \n",
    "                unob=['U'], \n",
    "                indep='X', \n",
    "                dep='Y')"
   ]
  },
  {
   "cell_type": "code",
   "execution_count": 60,
   "id": "40836bdc",
   "metadata": {},
   "outputs": [
    {
     "name": "stdout",
     "output_type": "stream",
     "text": [
      "0.162401916993256\n"
     ]
    }
   ],
   "source": [
    "dataMed, ATE_true = CustomBinaryDAG.generateMediation(500)\n",
    "dataMed\n",
    "print(ATE_true)"
   ]
  },
  {
   "cell_type": "code",
   "execution_count": null,
   "id": "2c54812d",
   "metadata": {},
   "outputs": [
    {
     "data": {
      "text/plain": [
       "['M', 'X', 'UB', 'Y']"
      ]
     },
     "execution_count": 70,
     "metadata": {},
     "output_type": "execute_result"
    }
   ],
   "source": [
    "# AutoBound.bound(query='ATE', \n",
    "#                 dagstring='X->Y, M->Y, U -> X, U -> Y, U -> M',\n",
    "#                 data=dataMed, \n",
    "#                 observed=['X', 'Y', 'M'], \n",
    "#                 unob=['U'], \n",
    "#                 indep='X', \n",
    "#                 dep='Y')\n",
    "customdag = CustomBinaryDAG(dataMed,\n",
    "                            dagstring='X->Y, M->Y, U -> X, U -> Y, U -> M ',\n",
    "                            unobserved=['U'],\n",
    "                            indep='X',\n",
    "                            dep='Y',\n",
    "                            )\n",
    "\n",
    "\n",
    "customdag.observed"
   ]
  }
 ],
 "metadata": {
  "kernelspec": {
   "display_name": "py312",
   "language": "python",
   "name": "python3"
  },
  "language_info": {
   "codemirror_mode": {
    "name": "ipython",
    "version": 3
   },
   "file_extension": ".py",
   "mimetype": "text/x-python",
   "name": "python",
   "nbconvert_exporter": "python",
   "pygments_lexer": "ipython3",
   "version": "3.12.6"
  }
 },
 "nbformat": 4,
 "nbformat_minor": 5
}
