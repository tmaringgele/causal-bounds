{
 "cells": [
  {
   "cell_type": "code",
   "execution_count": 1,
   "id": "b019801d",
   "metadata": {},
   "outputs": [],
   "source": [
    "%load_ext autoreload\n",
    "%autoreload 2\n",
    "\n",
    "import sys\n",
    "sys.path.append(\"..\")\n",
    "\n",
    "from simulation_engine.scenarios.iv.binary_iv import BinaryIV\n",
    "from simulation_engine.scenarios.iv.continuous_iv import ContinuousIV\n",
    "from simulation_engine.scenarios.iv.base_iv import IVScenario\n"
   ]
  },
  {
   "cell_type": "code",
   "execution_count": 2,
   "id": "d3e1d389",
   "metadata": {},
   "outputs": [
    {
     "name": "stdout",
     "output_type": "stream",
     "text": [
      "loaded Pickle: mypickle\n",
      "running bound_ate_causaloptim\n",
      "Data used for ATE calculation: loaded Pickle: mypickle\n"
     ]
    },
    {
     "data": {
      "text/plain": [
       "(0.2, 0.8)"
      ]
     },
     "execution_count": 2,
     "metadata": {},
     "output_type": "execute_result"
    }
   ],
   "source": [
    "# Instantiate and generate data\n",
    "binary_iv = BinaryIV(\"IV Dag\", 'mypickle')\n",
    "\n",
    "binary_iv.bound_ate_causaloptim()"
   ]
  },
  {
   "cell_type": "code",
   "execution_count": 8,
   "id": "a55df8d1",
   "metadata": {},
   "outputs": [
    {
     "name": "stdout",
     "output_type": "stream",
     "text": [
      "Binning continuous data with bin size: 30\n",
      "loaded binary Data from Pickle: mycontinuouspickle\n"
     ]
    }
   ],
   "source": [
    "continous_iv = ContinuousIV(\"IV Dag\", 'mycontinuouspickle', 30)\n",
    "\n",
    "# continous_iv.bound_ate_causaloptim()"
   ]
  }
 ],
 "metadata": {
  "kernelspec": {
   "display_name": "Python 3",
   "language": "python",
   "name": "python3"
  },
  "language_info": {
   "codemirror_mode": {
    "name": "ipython",
    "version": 3
   },
   "file_extension": ".py",
   "mimetype": "text/x-python",
   "name": "python",
   "nbconvert_exporter": "python",
   "pygments_lexer": "ipython3",
   "version": "3.12.6"
  }
 },
 "nbformat": 4,
 "nbformat_minor": 5
}
