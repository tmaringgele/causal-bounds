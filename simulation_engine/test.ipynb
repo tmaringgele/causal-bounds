{
 "cells": [
  {
   "cell_type": "code",
   "execution_count": 6,
   "id": "b019801d",
   "metadata": {},
   "outputs": [
    {
     "name": "stdout",
     "output_type": "stream",
     "text": [
      "The autoreload extension is already loaded. To reload it, use:\n",
      "  %reload_ext autoreload\n"
     ]
    }
   ],
   "source": [
    "%load_ext autoreload\n",
    "%autoreload 2\n",
    "\n",
    "import sys\n",
    "sys.path.append(\"..\")\n",
    "\n",
    "import os\n",
    "os.environ['R_HOME'] = 'D:/Program Files/R-4.5.0' #@TODO include in some setup file\n",
    "\n",
    "from simulation_engine.scenarios.iv.binary_iv import BinaryIV\n",
    "from simulation_engine.scenarios.iv.continuous_iv import ContinuousIV\n",
    "from simulation_engine.scenarios.iv.base_iv import IVScenario\n",
    "from simulation_engine.util.plotting_util import PlottingUtil\n",
    "import pandas as pd\n",
    "pd.set_option('display.max_columns', None)\n",
    "\n",
    "\n",
    "#disable warnings\n",
    "import warnings\n",
    "warnings.simplefilter(action='ignore', category=FutureWarning)\n",
    "\n"
   ]
  },
  {
   "cell_type": "code",
   "execution_count": 12,
   "id": "d3e1d389",
   "metadata": {},
   "outputs": [],
   "source": [
    "data = BinaryIV.generate_data_rolling_ate(N_simulations=50)\n",
    "\n",
    "# importr inside loop\n",
    "#N = 10 -> 17s\n",
    "#N = 50 -> 1m22s (outside: 18s)"
   ]
  },
  {
   "cell_type": "code",
   "execution_count": null,
   "id": "cb3f2997",
   "metadata": {},
   "outputs": [
    {
     "name": "stderr",
     "output_type": "stream",
     "text": [
      "R[write to console]: In addition: \n",
      "R[write to console]: Warning message:\n",
      "\n",
      "R[write to console]: In boundsfunc(p00_0 = p00_0, p00_1 = p00_1, p10_0 = p10_0, p10_1 = p10_1,  :\n",
      "R[write to console]: \n",
      " \n",
      "R[write to console]:  Invalid bounds! Data probably does not satisfy the assumptions in the DAG!\n",
      "\n"
     ]
    },
    {
     "name": "stdout",
     "output_type": "stream",
     "text": [
      "ERROR: evaluating object as numeric value: objvar\n",
      "        (object: <class 'pyomo.core.base.var.ScalarVar'>)\n",
      "    No value for uninitialized NumericValue object objvar\n"
     ]
    }
   ],
   "source": [
    "binaryIV = BinaryIV('IV Dag', data)\n",
    "\n",
    "binaryIV.bound_ate_2SLS()\n",
    "binaryIV.bound_ate_causaloptim()\n",
    "binaryIV.bound_ate_autobound()"
   ]
  },
  {
   "cell_type": "code",
   "execution_count": null,
   "id": "8a024a79",
   "metadata": {},
   "outputs": [
    {
     "ename": "TypeError",
     "evalue": "PlottingUtil.print_bound_statistics() takes from 1 to 2 positional arguments but 3 were given",
     "output_type": "error",
     "traceback": [
      "\u001b[1;31m---------------------------------------------------------------------------\u001b[0m",
      "\u001b[1;31mTypeError\u001b[0m                                 Traceback (most recent call last)",
      "Cell \u001b[1;32mIn[16], line 3\u001b[0m\n\u001b[0;32m      1\u001b[0m binaryIV\u001b[38;5;241m.\u001b[39mdata\n\u001b[1;32m----> 3\u001b[0m \u001b[38;5;28mprint\u001b[39m(\u001b[43mPlottingUtil\u001b[49m\u001b[38;5;241;43m.\u001b[39;49m\u001b[43mprint_bound_statistics\u001b[49m\u001b[43m(\u001b[49m\u001b[43mbinaryIV\u001b[49m\u001b[38;5;241;43m.\u001b[39;49m\u001b[43mdata\u001b[49m\u001b[43m,\u001b[49m\u001b[43m \u001b[49m\u001b[43m[\u001b[49m\u001b[38;5;124;43m'\u001b[39;49m\u001b[38;5;124;43mautobound\u001b[39;49m\u001b[38;5;124;43m'\u001b[39;49m\u001b[43m,\u001b[49m\u001b[43m \u001b[49m\u001b[38;5;124;43m'\u001b[39;49m\u001b[38;5;124;43mcausaloptim\u001b[39;49m\u001b[38;5;124;43m'\u001b[39;49m\u001b[43m,\u001b[49m\u001b[43m \u001b[49m\u001b[38;5;124;43m'\u001b[39;49m\u001b[38;5;124;43m2SLS\u001b[39;49m\u001b[38;5;124;43m'\u001b[39;49m\u001b[43m]\u001b[49m\u001b[43m,\u001b[49m\u001b[43m \u001b[49m\u001b[38;5;241;43m5\u001b[39;49m\u001b[43m)\u001b[49m)\n\u001b[0;32m      4\u001b[0m PlottingUtil\u001b[38;5;241m.\u001b[39mplot_smoothed_ate_vs_bounds(binaryIV\u001b[38;5;241m.\u001b[39mdata, [\u001b[38;5;124m'\u001b[39m\u001b[38;5;124mautobound\u001b[39m\u001b[38;5;124m'\u001b[39m, \u001b[38;5;124m'\u001b[39m\u001b[38;5;124mcausaloptim\u001b[39m\u001b[38;5;124m'\u001b[39m, \u001b[38;5;124m'\u001b[39m\u001b[38;5;124m2SLS\u001b[39m\u001b[38;5;124m'\u001b[39m], \u001b[38;5;241m1\u001b[39m)\n",
      "\u001b[1;31mTypeError\u001b[0m: PlottingUtil.print_bound_statistics() takes from 1 to 2 positional arguments but 3 were given"
     ]
    }
   ],
   "source": [
    "binaryIV.data\n",
    "\n",
    "PlottingUtil.print_bound_statistics(binaryIV.data, ['autobound', 'causaloptim', '2SLS'], 5)W\n",
    "PlottingUtil.plot_smoothed_ate_vs_bounds(binaryIV.data, ['autobound', 'causaloptim', '2SLS'], 1)\n"
   ]
  },
  {
   "cell_type": "code",
   "execution_count": null,
   "id": "fca21df9",
   "metadata": {},
   "outputs": [],
   "source": [
    "invalids = binaryIV.data[binaryIV.data['causaloptim_bound_valid'] == False]\n",
    "invalids.mean(numeric_only=True)"
   ]
  },
  {
   "cell_type": "code",
   "execution_count": null,
   "id": "203abd3f",
   "metadata": {},
   "outputs": [],
   "source": []
  }
 ],
 "metadata": {
  "kernelspec": {
   "display_name": "py312",
   "language": "python",
   "name": "python3"
  },
  "language_info": {
   "codemirror_mode": {
    "name": "ipython",
    "version": 3
   },
   "file_extension": ".py",
   "mimetype": "text/x-python",
   "name": "python",
   "nbconvert_exporter": "python",
   "pygments_lexer": "ipython3",
   "version": "3.12.6"
  }
 },
 "nbformat": 4,
 "nbformat_minor": 5
}
