{
 "cells": [
  {
   "cell_type": "code",
   "execution_count": 2,
   "id": "b019801d",
   "metadata": {},
   "outputs": [
    {
     "name": "stdout",
     "output_type": "stream",
     "text": [
      "The autoreload extension is already loaded. To reload it, use:\n",
      "  %reload_ext autoreload\n"
     ]
    }
   ],
   "source": [
    "%load_ext autoreload\n",
    "%autoreload 2\n",
    "\n",
    "import sys\n",
    "sys.path.append(\"..\")\n",
    "\n",
    "from simulation_engine.scenarios.iv.binary_iv import BinaryIV\n",
    "from simulation_engine.scenarios.iv.continuous_iv import ContinuousIV\n",
    "from simulation_engine.scenarios.iv.base_iv import IVScenario\n"
   ]
  },
  {
   "cell_type": "code",
   "execution_count": 3,
   "id": "d3e1d389",
   "metadata": {},
   "outputs": [
    {
     "ename": "TypeError",
     "evalue": "unsupported operand type(s) for *: 'NoneType' and 'int'",
     "output_type": "error",
     "traceback": [
      "\u001b[1;31m---------------------------------------------------------------------------\u001b[0m",
      "\u001b[1;31mTypeError\u001b[0m                                 Traceback (most recent call last)",
      "Cell \u001b[1;32mIn[3], line 1\u001b[0m\n\u001b[1;32m----> 1\u001b[0m \u001b[43mBinaryIV\u001b[49m\u001b[38;5;241;43m.\u001b[39;49m\u001b[43mgenerate_data\u001b[49m\u001b[43m(\u001b[49m\u001b[43m)\u001b[49m\n",
      "File \u001b[1;32md:\\TUM Workspace\\Thesis Workspace\\causal-bounds\\simulation_engine\\..\\simulation_engine\\scenarios\\iv\\binary_iv.py:41\u001b[0m, in \u001b[0;36mBinaryIV.generate_data\u001b[1;34m(N_simulations, n, seed, b_U_X, b_U_Y, b_Z, b_X_Y, intercept_X, intercept_Y)\u001b[0m\n\u001b[0;32m     39\u001b[0m df_results \u001b[38;5;241m=\u001b[39m []\n\u001b[0;32m     40\u001b[0m \u001b[38;5;28;01mfor\u001b[39;00m i \u001b[38;5;129;01min\u001b[39;00m \u001b[38;5;28mrange\u001b[39m(N_simulations):\n\u001b[1;32m---> 41\u001b[0m     result \u001b[38;5;241m=\u001b[39m \u001b[43mBinaryIV\u001b[49m\u001b[38;5;241;43m.\u001b[39;49m\u001b[43m_simulate_deterministic_data_with_probabilistic_ate\u001b[49m\u001b[43m(\u001b[49m\n\u001b[0;32m     42\u001b[0m \u001b[43m        \u001b[49m\u001b[43mn\u001b[49m\u001b[38;5;241;43m=\u001b[39;49m\u001b[43mn\u001b[49m\u001b[43m,\u001b[49m\n\u001b[0;32m     43\u001b[0m \u001b[43m        \u001b[49m\u001b[43mseed\u001b[49m\u001b[38;5;241;43m=\u001b[39;49m\u001b[43mseed\u001b[49m\u001b[43m,\u001b[49m\n\u001b[0;32m     44\u001b[0m \u001b[43m        \u001b[49m\u001b[43mb_U_X\u001b[49m\u001b[38;5;241;43m=\u001b[39;49m\u001b[43mb_U_X\u001b[49m\u001b[43m,\u001b[49m\n\u001b[0;32m     45\u001b[0m \u001b[43m        \u001b[49m\u001b[43mb_U_Y\u001b[49m\u001b[38;5;241;43m=\u001b[39;49m\u001b[43mb_U_Y\u001b[49m\u001b[43m,\u001b[49m\n\u001b[0;32m     46\u001b[0m \u001b[43m        \u001b[49m\u001b[43mb_Z\u001b[49m\u001b[38;5;241;43m=\u001b[39;49m\u001b[43mb_Z\u001b[49m\u001b[43m,\u001b[49m\n\u001b[0;32m     47\u001b[0m \u001b[43m        \u001b[49m\u001b[43mb_X_Y\u001b[49m\u001b[38;5;241;43m=\u001b[39;49m\u001b[43mb_X_Y\u001b[49m\u001b[43m,\u001b[49m\n\u001b[0;32m     48\u001b[0m \u001b[43m        \u001b[49m\u001b[43mintercept_X\u001b[49m\u001b[38;5;241;43m=\u001b[39;49m\u001b[43mintercept_X\u001b[49m\u001b[43m,\u001b[49m\n\u001b[0;32m     49\u001b[0m \u001b[43m        \u001b[49m\u001b[43mintercept_Y\u001b[49m\u001b[38;5;241;43m=\u001b[39;49m\u001b[43mintercept_Y\u001b[49m\n\u001b[0;32m     50\u001b[0m \u001b[43m    \u001b[49m\u001b[43m)\u001b[49m\n\u001b[0;32m     51\u001b[0m     df_results\u001b[38;5;241m.\u001b[39mappend(result)\n\u001b[0;32m     52\u001b[0m \u001b[38;5;28;01mreturn\u001b[39;00m df_results\n",
      "File \u001b[1;32md:\\TUM Workspace\\Thesis Workspace\\causal-bounds\\simulation_engine\\..\\simulation_engine\\scenarios\\iv\\binary_iv.py:127\u001b[0m, in \u001b[0;36mBinaryIV._simulate_deterministic_data_with_probabilistic_ate\u001b[1;34m(n, seed, b_U_X, b_U_Y, b_Z, b_X_Y, intercept_X, intercept_Y, p_U, p_Z)\u001b[0m\n\u001b[0;32m    124\u001b[0m U \u001b[38;5;241m=\u001b[39m np\u001b[38;5;241m.\u001b[39mrandom\u001b[38;5;241m.\u001b[39mbinomial(\u001b[38;5;241m1\u001b[39m, p_U, size\u001b[38;5;241m=\u001b[39mn)\n\u001b[0;32m    126\u001b[0m \u001b[38;5;66;03m# Treatment assignment\u001b[39;00m\n\u001b[1;32m--> 127\u001b[0m logit_X \u001b[38;5;241m=\u001b[39m intercept_X \u001b[38;5;241m+\u001b[39m \u001b[43mb_Z\u001b[49m\u001b[43m \u001b[49m\u001b[38;5;241;43m*\u001b[39;49m\u001b[43m \u001b[49m\u001b[43mZ\u001b[49m \u001b[38;5;241m+\u001b[39m b_U_X \u001b[38;5;241m*\u001b[39m U\n\u001b[0;32m    128\u001b[0m p_X \u001b[38;5;241m=\u001b[39m \u001b[38;5;241m1\u001b[39m \u001b[38;5;241m/\u001b[39m (\u001b[38;5;241m1\u001b[39m \u001b[38;5;241m+\u001b[39m np\u001b[38;5;241m.\u001b[39mexp(\u001b[38;5;241m-\u001b[39mlogit_X))\n\u001b[0;32m    129\u001b[0m X \u001b[38;5;241m=\u001b[39m np\u001b[38;5;241m.\u001b[39mrandom\u001b[38;5;241m.\u001b[39mbinomial(\u001b[38;5;241m1\u001b[39m, p_X)\n",
      "\u001b[1;31mTypeError\u001b[0m: unsupported operand type(s) for *: 'NoneType' and 'int'"
     ]
    }
   ],
   "source": [
    "BinaryIV.generate_data()"
   ]
  }
 ],
 "metadata": {
  "kernelspec": {
   "display_name": "Python 3",
   "language": "python",
   "name": "python3"
  },
  "language_info": {
   "codemirror_mode": {
    "name": "ipython",
    "version": 3
   },
   "file_extension": ".py",
   "mimetype": "text/x-python",
   "name": "python",
   "nbconvert_exporter": "python",
   "pygments_lexer": "ipython3",
   "version": "3.12.6"
  }
 },
 "nbformat": 4,
 "nbformat_minor": 5
}
