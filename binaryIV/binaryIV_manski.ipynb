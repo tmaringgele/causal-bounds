{
 "cells": [
  {
   "cell_type": "code",
   "execution_count": null,
   "id": "c8102540",
   "metadata": {},
   "outputs": [],
   "source": [
    "def compute_manski_bounds(X: np.ndarray, Y: np.ndarray):\n",
    "    \"\"\"\n",
    "    Compute Manski bounds for the Average Treatment Effect (ATE)\n",
    "    based on binary treatment (X) and binary outcome (Y).\n",
    "\n",
    "    Parameters:\n",
    "        X (np.ndarray): Binary treatment vector (0 or 1)\n",
    "        Y (np.ndarray): Binary outcome vector (0 or 1)\n",
    "\n",
    "    Returns:\n",
    "        tuple: (lower_bound, upper_bound)\n",
    "    \"\"\"\n",
    "    assert set(np.unique(X)).issubset({0, 1}), \"X must be binary (0/1)\"\n",
    "    assert set(np.unique(Y)).issubset({0, 1}), \"Y must be binary (0/1)\"\n",
    "    assert len(X) == len(Y), \"X and Y must have the same length\"\n",
    "\n",
    "    # Estimate P(Y=1 | T=1) and P(Y=1 | T=0)\n",
    "    p_y1_t1 = np.mean(Y[X == 1]) if np.any(X == 1) else 0.0\n",
    "    p_y1_t0 = np.mean(Y[X == 0]) if np.any(X == 0) else 0.0\n",
    "\n",
    "    # Compute Manski bounds\n",
    "    lower = max(p_y1_t1 - p_y1_t0 - (1 - p_y1_t1 - p_y1_t0), -1)\n",
    "    upper = min(p_y1_t1 - p_y1_t0 + (1 - p_y1_t1 - p_y1_t0), 1)\n",
    "\n",
    "    return lower, upper\n"
   ]
  }
 ],
 "metadata": {
  "language_info": {
   "name": "python"
  }
 },
 "nbformat": 4,
 "nbformat_minor": 5
}
