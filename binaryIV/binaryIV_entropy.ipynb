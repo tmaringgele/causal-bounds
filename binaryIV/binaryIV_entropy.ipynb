{
 "cells": [
  {
   "cell_type": "code",
   "execution_count": 62,
   "id": "badddae5",
   "metadata": {},
   "outputs": [],
   "source": [
    "import numpy as np\n",
    "import pandas as pd\n",
    "import sys\n",
    "sys.path.append('../')\n",
    "%load_ext autoreload\n",
    "%autoreload 2\n",
    "from entropy_bounds.utils import optimization_cf\n",
    "from binaryIV import simulate_deterministic_data_with_probabilistic_ate, extract_prob_dict, entropy_of_array\n",
    "from entropy_bounds.entropy_bounds import compute_ate_bounds\n",
    "\n",
    "\n",
    "import matplotlib.pyplot as plt\n",
    "import seaborn as sns\n",
    "import math\n",
    "from linearmodels.iv import IV2SLS\n",
    "import statsmodels.api as sm\n",
    "\n",
    "pd.options.mode.chained_assignment = None  # default='warn'\n",
    "\n",
    "pd.set_option('display.max_columns', None)\n"
   ]
  },
  {
   "cell_type": "code",
   "execution_count": 11,
   "id": "d236a36a",
   "metadata": {},
   "outputs": [
    {
     "data": {
      "text/plain": [
       "count    2000.000000\n",
       "mean        0.692177\n",
       "std         0.001375\n",
       "min         0.680292\n",
       "25%         0.691795\n",
       "50%         0.692755\n",
       "75%         0.693019\n",
       "max         0.693147\n",
       "Name: entropy_U, dtype: float64"
      ]
     },
     "execution_count": 11,
     "metadata": {},
     "output_type": "execute_result"
    }
   ],
   "source": [
    "data = pd.read_pickle('binaryIV_results.pkl')\n",
    "data['entropy_U'].describe()"
   ]
  },
  {
   "cell_type": "code",
   "execution_count": null,
   "id": "a9ec0e2e",
   "metadata": {},
   "outputs": [
    {
     "name": "stdout",
     "output_type": "stream",
     "text": [
      "ATE_true: -0.6494981193401556\n",
      "bound_lower: -0.7589942481344406\n",
      "bound_upper: 0.202100234716181\n",
      "bound_width: 0.9610944828506216\n",
      "bounds_valid: True\n"
     ]
    }
   ],
   "source": [
    "# minimal working example\n",
    "sim = data.iloc[0]\n",
    "\n",
    "df = pd.DataFrame({'Y': sim['Y'], 'X': sim['X'], 'Z': sim['Z']})\n",
    "\n",
    "entr = 0.7\n",
    "\n",
    "# Compute ATE bounds\n",
    "ate_lower, ate_upper = compute_ate_bounds(df['X'].to_numpy(), df['Y'].to_numpy(), entr)\n",
    "\n",
    "# Check if true ATE is within bounds\n",
    "bounds_valid = ate_lower <= sim['ATE_true'] <= ate_upper\n",
    "\n",
    "# Collect results\n",
    "result = {\n",
    "    'ATE_true': sim['ATE_true'],\n",
    "    'bound_lower': ate_lower,\n",
    "    'bound_upper': ate_upper,\n",
    "    'bound_width': ate_upper - ate_lower,\n",
    "    'bounds_valid': bounds_valid\n",
    "}\n",
    "\n",
    "# Display\n",
    "for key, value in result.items():\n",
    "    print(f\"{key}: {value}\")"
   ]
  },
  {
   "cell_type": "code",
   "execution_count": 59,
   "id": "059433bb",
   "metadata": {},
   "outputs": [
    {
     "data": {
      "text/plain": [
       "count    2000.000000\n",
       "mean        0.692177\n",
       "std         0.001375\n",
       "min         0.680292\n",
       "25%         0.691795\n",
       "50%         0.692755\n",
       "75%         0.693019\n",
       "max         0.693147\n",
       "Name: entropy_U, dtype: float64"
      ]
     },
     "execution_count": 59,
     "metadata": {},
     "output_type": "execute_result"
    }
   ],
   "source": [
    "data['entropy_U'].describe()"
   ]
  },
  {
   "cell_type": "code",
   "execution_count": null,
   "id": "55184f0f",
   "metadata": {},
   "outputs": [],
   "source": [
    "df_results = data.copy()\n",
    "entr = np.random.uniform(0, 1)\n",
    "for idx, sim in df_results.iterrows():\n",
    "\n",
    "    df = pd.DataFrame({'Y': sim['Y'], 'X': sim['X'], 'Z': sim['Z']})\n",
    "\n",
    "    # Compute ATE bounds\n",
    "    ate_lower, ate_upper = compute_ate_bounds(df['X'].to_numpy(), df['Y'].to_numpy(), entr, method='cf')\n",
    "\n",
    "    # Check if true ATE is within bounds\n",
    "    bounds_valid = ate_lower <= sim['ATE_true'] <= ate_upper\n",
    "\n",
    "    # Collect results\n",
    "    result = {\n",
    "        'ATE_true': sim['ATE_true'],\n",
    "        'bound_lower': ate_lower,\n",
    "        'bound_upper': ate_upper,\n",
    "        'bound_width': ate_upper - ate_lower,\n",
    "        'bounds_valid': bounds_valid\n",
    "    }\n",
    "\n",
    "    df_results.at[idx, 'entropyBounds_H(conf)_UB'] = entr\n",
    "    df_results.at[idx, 'entropyBounds_bound_lower'] = ate_lower\n",
    "    df_results.at[idx, 'entropyBounds_bound_upper'] = ate_upper\n",
    "    df_results.at[idx, 'entropyBounds_bound_width'] = ate_upper - ate_lower\n",
    "    df_results.at[idx, 'entropyBounds_bounds_valid'] = bounds_valid"
   ]
  },
  {
   "cell_type": "code",
   "execution_count": null,
   "id": "e9752c61",
   "metadata": {},
   "outputs": [
    {
     "name": "stdout",
     "output_type": "stream",
     "text": [
      "Invalid Bounds: 4\n",
      "Average Bound Width: 0.912342858446651\n"
     ]
    }
   ],
   "source": [
    "print(f\"Invalid Bounds: {df_results[df_results['entropyBounds_bounds_valid'] == False].shape[0]}\")\n",
    "print(f\"Average Bound Width: {df_results['entropyBounds_bound_width'].mean()}\")\n"
   ]
  },
  {
   "cell_type": "code",
   "execution_count": null,
   "id": "6dc47301",
   "metadata": {},
   "outputs": [],
   "source": [
    "## RCT: entropy --> bound width\n",
    "random_entropy_valid = df_results[df_results['entropyBounds_bounds_valid'] == True].copy()\n",
    "\n"
   ]
  }
 ],
 "metadata": {
  "kernelspec": {
   "display_name": "Python 3",
   "language": "python",
   "name": "python3"
  },
  "language_info": {
   "codemirror_mode": {
    "name": "ipython",
    "version": 3
   },
   "file_extension": ".py",
   "mimetype": "text/x-python",
   "name": "python",
   "nbconvert_exporter": "python",
   "pygments_lexer": "ipython3",
   "version": "3.12.6"
  }
 },
 "nbformat": 4,
 "nbformat_minor": 5
}
