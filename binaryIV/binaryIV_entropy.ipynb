{
 "cells": [
  {
   "cell_type": "code",
   "execution_count": 1,
   "id": "badddae5",
   "metadata": {},
   "outputs": [],
   "source": [
    "import numpy as np\n",
    "import pandas as pd\n",
    "import sys\n",
    "sys.path.append('../')\n",
    "from entropy_bounds.utils import optimization_cf\n",
    "from binaryIV import simulate_deterministic_data_with_probabilistic_ate, extract_prob_dict, entropy_of_array\n",
    "\n",
    "\n",
    "\n",
    "import matplotlib.pyplot as plt\n",
    "import seaborn as sns\n",
    "import math\n"
   ]
  },
  {
   "cell_type": "code",
   "execution_count": 5,
   "id": "d1a10567",
   "metadata": {},
   "outputs": [],
   "source": [
    "x = .5 # The marginal probability P(x) that corresponding to P(y|do(x))\n",
    "y_x = .5 # The conditional probability P(y|x) that corresponding to p(y|do(x))\n",
    "entr = 100 # The upper bound of confounder entropy\n",
    "x_bar = 1 - x\n",
    "y_bar_x = 1 - y_x"
   ]
  },
  {
   "cell_type": "code",
   "execution_count": 8,
   "id": "bcfbdb17",
   "metadata": {},
   "outputs": [
    {
     "name": "stdout",
     "output_type": "stream",
     "text": [
      "The bounds of P(y|do(x)) is [0.25, 0.75]\n"
     ]
    }
   ],
   "source": [
    "## Construct the joint distribution. Our experiment shows the bounds only depends on the value of p(y|x) and p(x), we pick arbitrary values for other entries.\n",
    "pyx = np.array([[y_x*x, y_bar_x*x], [x_bar*0.5 , x_bar*0.5]]).T\n",
    "lb, ub, _ = optimization_cf(pyx, ub=entr, p =0, q=0)\n",
    "print(f\"The bounds of P(y|do(x)) is [{round(lb,3)}, {round(ub,3)}]\")"
   ]
  },
  {
   "cell_type": "code",
   "execution_count": 98,
   "id": "a9ec0e2e",
   "metadata": {},
   "outputs": [
    {
     "name": "stdout",
     "output_type": "stream",
     "text": [
      "b_X_Y: -1.095861795318481\n",
      "b_Z: -1.0675216543109356\n",
      "b_U_X: -0.7139098495776162\n",
      "b_U_Y: 1.0949174617189184\n",
      "entropy_Y: 0.6927551293225422\n",
      "entropy_X: 0.6253527126087997\n",
      "entropy_Z: 0.6930751788318458\n",
      "entropy_U: 0.6924990405193354\n",
      "corr_X_Y: -0.31557179787439665\n",
      "corr_X_Z: -0.2537956703596456\n",
      "corr_Y_Z: 0.01634358426027675\n",
      "ATE_true: -0.2495122385388485\n",
      "bound_lower: 0.25100723245233475\n",
      "bound_upper: -0.11300760398211884\n",
      "bound_width: -0.3640148364344536\n",
      "bounds_valid: False\n"
     ]
    }
   ],
   "source": [
    "sim = simulate_deterministic_data_with_probabilistic_ate()\n",
    "\n",
    "df = pd.DataFrame({'Y': sim['Y'], 'X': sim['X'], 'Z': sim['Z']})\n",
    "prob_dict = extract_prob_dict(df)\n",
    "\n",
    "# # pYX_Z = P(Y,X|Z)\n",
    "# print('Probability Dictionary:')\n",
    "# for key, value in prob_dict.items():\n",
    "#     print(f\"{key}: {value}\")\n",
    "\n",
    "##compute p(y|x) from df\n",
    "y_x = df[df['X'] == 1]['Y'].mean()\n",
    "\n",
    "##compute p(x) from df\n",
    "x = df['X'].mean()\n",
    "\n",
    "##confounder entropy\n",
    "entr = 100\n",
    "\n",
    "\n",
    "x_bar = 1 - x\n",
    "y_bar_x = 1 - y_x\n",
    "\n",
    "pyx = np.array([[y_x*x, y_bar_x*x], [x_bar*0.5 , x_bar*0.5]]).T\n",
    "lb_p11, ub_p11, _ = optimization_cf(pyx, ub=entr, p =0, q=1)\n",
    "\n",
    "####\n",
    "##compute p(y|x) from df\n",
    "y_x = df[df['X'] == 1]['Y'].mean()\n",
    "\n",
    "##compute p(x) from df\n",
    "x = df['X'].mean()\n",
    "\n",
    "x_bar = 1 - x\n",
    "y_bar_x = 1 - y_x\n",
    "\n",
    "pyx = np.array([[y_x*x, y_bar_x*x], [x_bar*0.5 , x_bar*0.5]]).T\n",
    "lb_p10, ub_p10, _ = optimization_cf(pyx, ub=entr, p =0, q=0)\n",
    "\n",
    "bound_lower = lb_p11 - lb_p10\n",
    "bound_upper = ub_p11 - ub_p10\n",
    "\n",
    "bounds_valid = bound_lower <= sim['ATE_true'] <= bound_upper\n",
    "\n",
    "result = {\n",
    "    'b_X_Y': sim['b_X_Y'],\n",
    "    'b_Z': sim['b_Z'],\n",
    "    'b_U_X': sim['b_U_X'],\n",
    "    'b_U_Y': sim['b_U_Y'],\n",
    "    'entropy_Y': entropy_of_array(sim['Y']),\n",
    "    'entropy_X': entropy_of_array(sim['X']),\n",
    "    'entropy_Z': entropy_of_array(sim['Z']),\n",
    "    'entropy_U': entropy_of_array(sim['U']),\n",
    "    'corr_X_Y': np.corrcoef(sim['X'], sim['Y'])[0, 1],\n",
    "    'corr_X_Z': np.corrcoef(sim['X'], sim['Z'])[0, 1],\n",
    "    'corr_Y_Z': np.corrcoef(sim['Y'], sim['Z'])[0, 1],\n",
    "    'ATE_true': sim['ATE_true'],\n",
    "    'bound_lower': bound_lower,\n",
    "    'bound_upper': bound_upper,\n",
    "    'bound_width': bound_upper - bound_lower,\n",
    "    'bounds_valid': bounds_valid\n",
    "}\n",
    "\n",
    "for key, value in result.items():\n",
    "    print(f\"{key}: {value}\")"
   ]
  }
 ],
 "metadata": {
  "kernelspec": {
   "display_name": "Python 3",
   "language": "python",
   "name": "python3"
  },
  "language_info": {
   "codemirror_mode": {
    "name": "ipython",
    "version": 3
   },
   "file_extension": ".py",
   "mimetype": "text/x-python",
   "name": "python",
   "nbconvert_exporter": "python",
   "pygments_lexer": "ipython3",
   "version": "3.12.6"
  }
 },
 "nbformat": 4,
 "nbformat_minor": 5
}
