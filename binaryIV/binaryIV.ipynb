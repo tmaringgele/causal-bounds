{
 "cells": [
  {
   "cell_type": "code",
   "execution_count": 1,
   "id": "5b0bb40c",
   "metadata": {},
   "outputs": [],
   "source": [
    "import numpy as np\n",
    "import pandas as pd\n",
    "import sys\n",
    "sys.path.append('../')\n",
    "%load_ext autoreload\n",
    "%autoreload 2\n",
    "from binaryIV import simulate_deterministic_data_with_probabilistic_ate, extract_prob_dict, entropy_of_array\n",
    "\n",
    "import warnings\n",
    "warnings.simplefilter(action='ignore', category=FutureWarning)\n",
    "\n",
    "\n",
    "\n",
    "import matplotlib.pyplot as plt\n",
    "import seaborn as sns\n",
    "import math\n",
    "# from linearmodels.iv import IV2SLS\n",
    "import statsmodels.api as sm\n",
    "import statsmodels.formula.api as smf\n",
    "\n",
    "\n",
    "pd.options.mode.chained_assignment = None  # default='warn'\n",
    "\n",
    "\n",
    "pd.set_option('display.max_columns', None)\n",
    "\n",
    "\n"
   ]
  },
  {
   "cell_type": "code",
   "execution_count": 2,
   "id": "4f428a27",
   "metadata": {},
   "outputs": [],
   "source": [
    "data  = pd.read_pickle('binaryIV_results.pkl')"
   ]
  },
  {
   "cell_type": "code",
   "execution_count": 4,
   "id": "d22da020",
   "metadata": {},
   "outputs": [
    {
     "data": {
      "text/plain": [
       "<Axes: ylabel='Frequency'>"
      ]
     },
     "execution_count": 4,
     "metadata": {},
     "output_type": "execute_result"
    },
    {
     "data": {
      "image/png": "[encoded data removed]",
      "text/plain": [
       "<Figure size 640x480 with 1 Axes>"
      ]
     },
     "metadata": {},
     "output_type": "display_data"
    }
   ],
   "source": [
    "data['b_Z'].plot(kind='hist', bins=100, alpha=0.5, label='b_Z', color='blue')"
   ]
  },
  {
   "cell_type": "code",
   "execution_count": 6,
   "id": "ded5b653",
   "metadata": {},
   "outputs": [
    {
     "name": "stdout",
     "output_type": "stream",
     "text": [
      "['seed', 'intercept_X', 'intercept_Y', 'b_X_Y', 'b_Z', 'b_U_X', 'b_U_Y', 'ATE_true', 'p_Y1', 'p_Y0', 'Z', 'U', 'X', 'Y', 'entropy_Y', 'entropy_X', 'entropy_Z', 'entropy_U', 'corr_X_Y', 'corr_X_Z', 'corr_Y_Z', 'causaloptim_bound_lower', 'causaloptim_bound_upper', 'causaloptim_bound_width', 'causaloptim_bounds_valid', '2SLS_CI_level_percent', '2SLS_estimation', '2SLS_CI_lower', '2SLS_CI_upper', '2SLS_CI_width', '2SLS_CI_valid', 'entropyBounds_H(conf)_UB', 'entropyBounds_bound_lower', 'entropyBounds_bound_upper', 'entropyBounds_bound_width', 'entropyBounds_bounds_valid', 'autobound_bound_lower', 'autobound_bound_upper', 'autobound_bound_width', 'autobound_bounds_valid']\n"
     ]
    }
   ],
   "source": [
    "print(data.columns.tolist())\n"
   ]
  },
  {
   "cell_type": "code",
   "execution_count": 30,
   "id": "f94d9944",
   "metadata": {},
   "outputs": [
    {
     "name": "stdout",
     "output_type": "stream",
     "text": [
      "-0.344241\n",
      "-3.500000\n"
     ]
    }
   ],
   "source": [
    "sim = data.iloc[300]\n",
    "\n",
    "X = sim['X']\n",
    "Y = sim['Y']\n",
    "Z = sim['Z']\n",
    "# Create a DataFrame from the arrays\n",
    "df = pd.DataFrame({'X': X, 'Y': Y})\n",
    "\n",
    "# Save the DataFrame to a CSV file\n",
    "csv_file_path = \"data300_idx_noZ.csv\"\n",
    "df.to_csv(csv_file_path, index=True)\n",
    "\n",
    "# csv_file_path\n",
    "print(f\"{sim['ATE_true']:.6f}\")\n",
    "print(f\"{sim['b_X_Y']:.6f}\")\n",
    "\n",
    "\n"
   ]
  },
  {
   "cell_type": "code",
   "execution_count": 16,
   "id": "b5f2f114",
   "metadata": {},
   "outputs": [
    {
     "data": {
      "text/plain": [
       "'binary_iv_model.uai'"
      ]
     },
     "execution_count": 16,
     "metadata": {},
     "output_type": "execute_result"
    }
   ],
   "source": [
    "import numpy as np\n",
    "from collections import Counter\n",
    "\n",
    "\n",
    "X = data.iloc[0]['X']\n",
    "Y = data.iloc[0]['Y']\n",
    "Z = data.iloc[0]['Z']\n",
    "\n",
    "N = len(X)\n",
    "\n",
    "# Estimate empirical distributions\n",
    "pz = np.bincount(Z, minlength=2) / N\n",
    "\n",
    "# P(X | Z)\n",
    "pxz_counts = Counter((z, x) for z, x in zip(Z, X))\n",
    "px_given_z = np.array([\n",
    "    [pxz_counts[(z, x)] for x in [0, 1]] for z in [0, 1]\n",
    "], dtype=float)\n",
    "px_given_z /= px_given_z.sum(axis=1, keepdims=True)\n",
    "\n",
    "# P(Y | X)\n",
    "pyx_counts = Counter((x, y) for x, y in zip(X, Y))\n",
    "py_given_x = np.array([\n",
    "    [pyx_counts[(x, y)] for y in [0, 1]] for x in [0, 1]\n",
    "], dtype=float)\n",
    "py_given_x /= py_given_x.sum(axis=1, keepdims=True)\n",
    "\n",
    "# Create UAI file content\n",
    "lines = []\n",
    "\n",
    "# Header\n",
    "lines.append(\"CAUSAL\")\n",
    "lines.append(\"3\")  # number of variables: Z, X, Y\n",
    "lines.append(\"2 2 2\")  # cardinalities\n",
    "\n",
    "# Factors: P(Z), P(X|Z), P(Y|X)\n",
    "lines.append(\"3\")  # number of factors\n",
    "lines.append(\"1 0\")       # P(Z)\n",
    "lines.append(\"2 1 0\")     # P(X | Z)\n",
    "lines.append(\"2 2 1\")     # P(Y | X)\n",
    "\n",
    "# Factor sizes\n",
    "lines.append(\"2\")  # P(Z)\n",
    "lines.append(\"4\")  # P(X|Z): 2 Z values * 2 X values\n",
    "lines.append(\"4\")  # P(Y|X): 2 X values * 2 Y values\n",
    "\n",
    "# Factor tables\n",
    "lines.append(\" \".join(f\"{p:.5f}\" for p in pz))  # P(Z)\n",
    "\n",
    "# P(X | Z)\n",
    "lines.append(\" \".join(f\"{p:.5f}\" for p in px_given_z.flatten()))\n",
    "\n",
    "# P(Y | X)\n",
    "lines.append(\" \".join(f\"{p:.5f}\" for p in py_given_x.flatten()))\n",
    "\n",
    "# Save to file\n",
    "uai_content = \"\\n\".join(lines)\n",
    "file_path = \"binary_iv_model.uai\"\n",
    "with open(file_path, \"w\") as f:\n",
    "    f.write(uai_content)\n",
    "\n",
    "file_path"
   ]
  },
  {
   "cell_type": "code",
   "execution_count": null,
   "id": "d9ebba75",
   "metadata": {},
   "outputs": [],
   "source": []
  },
  {
   "cell_type": "code",
   "execution_count": null,
   "id": "8306102e",
   "metadata": {},
   "outputs": [],
   "source": []
  }
 ],
 "metadata": {
  "kernelspec": {
   "display_name": "Python 3",
   "language": "python",
   "name": "python3"
  },
  "language_info": {
   "codemirror_mode": {
    "name": "ipython",
    "version": 3
   },
   "file_extension": ".py",
   "mimetype": "text/x-python",
   "name": "python",
   "nbconvert_exporter": "python",
   "pygments_lexer": "ipython3",
   "version": "3.12.6"
  }
 },
 "nbformat": 4,
 "nbformat_minor": 5
}
