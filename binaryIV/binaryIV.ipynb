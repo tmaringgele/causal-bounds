{
 "cells": [
  {
   "cell_type": "code",
   "execution_count": 1,
   "id": "5b0bb40c",
   "metadata": {},
   "outputs": [],
   "source": [
    "import numpy as np\n",
    "import pandas as pd\n",
    "import sys\n",
    "sys.path.append('../')\n",
    "%load_ext autoreload\n",
    "%autoreload 2\n",
    "from binaryIV import simulate_deterministic_data_with_probabilistic_ate, extract_prob_dict, entropy_of_array\n",
    "\n",
    "import warnings\n",
    "warnings.simplefilter(action='ignore', category=FutureWarning)\n",
    "\n",
    "\n",
    "\n",
    "import matplotlib.pyplot as plt\n",
    "import seaborn as sns\n",
    "import math\n",
    "# from linearmodels.iv import IV2SLS\n",
    "import statsmodels.api as sm\n",
    "import statsmodels.formula.api as smf\n",
    "\n",
    "\n",
    "pd.options.mode.chained_assignment = None  # default='warn'\n",
    "\n",
    "\n",
    "pd.set_option('display.max_columns', None)\n",
    "\n",
    "\n"
   ]
  },
  {
   "cell_type": "code",
   "execution_count": 2,
   "id": "4f428a27",
   "metadata": {},
   "outputs": [],
   "source": [
    "data  = pd.read_pickle('binaryIV_results.pkl')"
   ]
  },
  {
   "cell_type": "code",
   "execution_count": 4,
   "id": "d22da020",
   "metadata": {},
   "outputs": [
    {
     "data": {
      "text/plain": [
       "<Axes: ylabel='Frequency'>"
      ]
     },
     "execution_count": 4,
     "metadata": {},
     "output_type": "execute_result"
    },
    {
     "data": {
      "image/png": "[encoded data removed]",
      "text/plain": [
       "<Figure size 640x480 with 1 Axes>"
      ]
     },
     "metadata": {},
     "output_type": "display_data"
    }
   ],
   "source": [
    "data['b_Z'].plot(kind='hist', bins=100, alpha=0.5, label='b_Z', color='blue')"
   ]
  },
  {
   "cell_type": "code",
   "execution_count": 14,
   "id": "ded5b653",
   "metadata": {},
   "outputs": [
    {
     "name": "stdout",
     "output_type": "stream",
     "text": [
      "['seed', 'intercept_X', 'intercept_Y', 'b_X_Y', 'b_Z', 'b_U_X', 'b_U_Y', 'ATE_true', 'p_Y1', 'p_Y0', 'Z', 'U', 'X', 'Y', 'entropy_Y', 'entropy_X', 'entropy_Z', 'entropy_U', 'corr_X_Y', 'corr_X_Z', 'corr_Y_Z', 'causaloptim_bound_lower', 'causaloptim_bound_upper', 'causaloptim_bound_width', 'causaloptim_bounds_valid', '2SLS_CI_level_percent', '2SLS_estimation', '2SLS_CI_lower', '2SLS_CI_upper', '2SLS_CI_width', '2SLS_CI_valid', 'entropyBounds_H(conf)_UB', 'entropyBounds_bound_lower', 'entropyBounds_bound_upper', 'entropyBounds_bound_width', 'entropyBounds_bounds_valid', 'autobound_bound_lower', 'autobound_bound_upper', 'autobound_bound_width', 'autobound_bounds_valid', 'ATE_true_smooth', 'autobound_bound_lower_smooth', 'autobound_bound_upper_smooth']\n"
     ]
    }
   ],
   "source": [
    "print(data.columns.tolist())\n"
   ]
  },
  {
   "cell_type": "code",
   "execution_count": 15,
   "id": "b5f2f114",
   "metadata": {},
   "outputs": [],
   "source": [
    "# Add a new column 'tightest_bounds' to identify the algorithm with the smallest bound width\n",
    "bound_columns = {\n",
    "    'causaloptim': 'causaloptim_bound_width',\n",
    "    '2SLS': '2SLS_CI_width',\n",
    "    'entropyBounds': 'entropyBounds_bound_width',\n",
    "    'autobound': 'autobound_bound_width'\n",
    "}\n",
    "data['tightest_bounds'] = data[\n",
    "    list(bound_columns.values())\n",
    "].idxmin(axis=1).map({v: k for k, v in bound_columns.items()})"
   ]
  },
  {
   "cell_type": "code",
   "execution_count": 19,
   "id": "8306102e",
   "metadata": {},
   "outputs": [
    {
     "data": {
      "text/plain": [
       "<Axes: xlabel='tightest_bounds'>"
      ]
     },
     "execution_count": 19,
     "metadata": {},
     "output_type": "execute_result"
    },
    {
     "data": {
      "image/png": "[encoded data removed]",
      "text/plain": [
       "<Figure size 640x480 with 1 Axes>"
      ]
     },
     "metadata": {},
     "output_type": "display_data"
    }
   ],
   "source": [
    "data['tightest_bounds'].value_counts().plot(kind='bar', alpha=0.5, color='blue')"
   ]
  },
  {
   "cell_type": "code",
   "execution_count": 26,
   "id": "69b5e5b8",
   "metadata": {},
   "outputs": [
    {
     "name": "stdout",
     "output_type": "stream",
     "text": [
      "              precision    recall  f1-score   support\n",
      "\n",
      "        2SLS       0.74      0.80      0.77       108\n",
      "   autobound       0.32      0.37      0.34        57\n",
      " causaloptim       0.74      0.69      0.71       235\n",
      "\n",
      "    accuracy                           0.67       400\n",
      "   macro avg       0.60      0.62      0.61       400\n",
      "weighted avg       0.68      0.67      0.68       400\n",
      "\n"
     ]
    }
   ],
   "source": [
    "# Train a decision tree classifier to predict 'tightest_bounds'\n",
    "from sklearn.tree import DecisionTreeClassifier\n",
    "from sklearn.model_selection import train_test_split\n",
    "from sklearn.metrics import classification_report\n",
    "\n",
    "# Define features and target\n",
    "features = ['entropy_Y', 'entropy_X', 'entropy_Z', 'corr_X_Y', 'corr_X_Z', 'corr_Y_Z']\n",
    "X = data[features]\n",
    "y = data['tightest_bounds']\n",
    "\n",
    "# Split the data into training and testing sets\n",
    "X_train, X_test, y_train, y_test = train_test_split(X, y, test_size=0.2, random_state=42)\n",
    "\n",
    "# Train the decision tree classifier\n",
    "clf = DecisionTreeClassifier(random_state=42)\n",
    "clf.fit(X_train, y_train)\n",
    "\n",
    "# Evaluate the classifier\n",
    "y_pred = clf.predict(X_test)\n",
    "print(classification_report(y_test, y_pred))"
   ]
  },
  {
   "cell_type": "code",
   "execution_count": 27,
   "id": "3f24a6e0",
   "metadata": {},
   "outputs": [
    {
     "name": "stdout",
     "output_type": "stream",
     "text": [
      "              precision    recall  f1-score   support\n",
      "\n",
      "        2SLS       0.80      0.83      0.81       108\n",
      "   autobound       0.36      0.16      0.22        57\n",
      " causaloptim       0.76      0.84      0.80       235\n",
      "\n",
      "    accuracy                           0.74       400\n",
      "   macro avg       0.64      0.61      0.61       400\n",
      "weighted avg       0.71      0.74      0.72       400\n",
      "\n"
     ]
    }
   ],
   "source": [
    "# Train a random forest classifier to predict 'tightest_bounds'\n",
    "from sklearn.ensemble import RandomForestClassifier\n",
    "\n",
    "# Train the random forest classifier\n",
    "rf_clf = RandomForestClassifier(random_state=42, n_estimators=100)\n",
    "rf_clf.fit(X_train, y_train)\n",
    "\n",
    "# Evaluate the random forest classifier\n",
    "rf_y_pred = rf_clf.predict(X_test)\n",
    "print(classification_report(y_test, rf_y_pred))"
   ]
  },
  {
   "cell_type": "code",
   "execution_count": 31,
   "id": "97971b18",
   "metadata": {},
   "outputs": [
    {
     "name": "stdout",
     "output_type": "stream",
     "text": [
      "              precision    recall  f1-score   support\n",
      "\n",
      "        2SLS       0.81      0.80      0.80       108\n",
      "   autobound       0.52      0.21      0.30        57\n",
      " causaloptim       0.76      0.87      0.81       235\n",
      "\n",
      "    accuracy                           0.76       400\n",
      "   macro avg       0.70      0.63      0.64       400\n",
      "weighted avg       0.74      0.76      0.74       400\n",
      "\n"
     ]
    }
   ],
   "source": [
    "# Train a neural network classifier to predict 'tightest_bounds'\n",
    "from sklearn.neural_network import MLPClassifier\n",
    "\n",
    "# Train the neural network classifier\n",
    "nn_clf = MLPClassifier(random_state=42, max_iter=500, hidden_layer_sizes=(100, 50))\n",
    "nn_clf.fit(X_train, y_train)\n",
    "\n",
    "# Evaluate the neural network classifier\n",
    "nn_y_pred = nn_clf.predict(X_test)\n",
    "print(classification_report(y_test, nn_y_pred))"
   ]
  },
  {
   "cell_type": "code",
   "execution_count": null,
   "id": "50436a13",
   "metadata": {},
   "outputs": [
    {
     "name": "stdout",
     "output_type": "stream",
     "text": [
      "Fitting 3 folds for each of 32 candidates, totalling 96 fits\n"
     ]
    },
    {
     "name": "stderr",
     "output_type": "stream",
     "text": [
      "C:\\Users\\tmari\\AppData\\Roaming\\Python\\Python312\\site-packages\\sklearn\\neural_network\\_multilayer_perceptron.py:690: ConvergenceWarning: Stochastic Optimizer: Maximum iterations (500) reached and the optimization hasn't converged yet.\n",
      "  warnings.warn(\n"
     ]
    },
    {
     "name": "stdout",
     "output_type": "stream",
     "text": [
      "[CV] END activation=relu, hidden_layer_sizes=(50,), learning_rate=constant, solver=adam; total time=   1.8s\n"
     ]
    },
    {
     "name": "stderr",
     "output_type": "stream",
     "text": [
      "C:\\Users\\tmari\\AppData\\Roaming\\Python\\Python312\\site-packages\\sklearn\\neural_network\\_multilayer_perceptron.py:697: UserWarning: Training interrupted by user.\n",
      "  warnings.warn(\"Training interrupted by user.\")\n"
     ]
    },
    {
     "name": "stdout",
     "output_type": "stream",
     "text": [
      "[CV] END activation=relu, hidden_layer_sizes=(50,), learning_rate=constant, solver=adam; total time=   0.4s\n"
     ]
    },
    {
     "name": "stderr",
     "output_type": "stream",
     "text": [
      "C:\\Users\\tmari\\AppData\\Roaming\\Python\\Python312\\site-packages\\sklearn\\neural_network\\_multilayer_perceptron.py:690: ConvergenceWarning: Stochastic Optimizer: Maximum iterations (500) reached and the optimization hasn't converged yet.\n",
      "  warnings.warn(\n"
     ]
    },
    {
     "name": "stdout",
     "output_type": "stream",
     "text": [
      "[CV] END activation=relu, hidden_layer_sizes=(50,), learning_rate=constant, solver=adam; total time=   1.9s\n",
      "[CV] END activation=relu, hidden_layer_sizes=(50,), learning_rate=constant, solver=sgd; total time=   0.7s\n",
      "[CV] END activation=relu, hidden_layer_sizes=(50,), learning_rate=constant, solver=sgd; total time=   0.7s\n",
      "[CV] END activation=relu, hidden_layer_sizes=(50,), learning_rate=constant, solver=sgd; total time=   0.5s\n",
      "[CV] END activation=relu, hidden_layer_sizes=(50,), learning_rate=constant, solver=sgd; total time=   0.5s\n",
      "[CV] END activation=relu, hidden_layer_sizes=(50,), learning_rate=constant, solver=sgd; total time=   0.2s\n",
      "[CV] END activation=relu, hidden_layer_sizes=(50,), learning_rate=constant, solver=sgd; total time=   0.2s\n"
     ]
    },
    {
     "name": "stderr",
     "output_type": "stream",
     "text": [
      "C:\\Users\\tmari\\AppData\\Roaming\\Python\\Python312\\site-packages\\sklearn\\neural_network\\_multilayer_perceptron.py:690: ConvergenceWarning: Stochastic Optimizer: Maximum iterations (500) reached and the optimization hasn't converged yet.\n",
      "  warnings.warn(\n"
     ]
    },
    {
     "name": "stdout",
     "output_type": "stream",
     "text": [
      "[CV] END activation=relu, hidden_layer_sizes=(50,), learning_rate=adaptive, solver=adam; total time=   1.6s\n"
     ]
    },
    {
     "name": "stderr",
     "output_type": "stream",
     "text": [
      "C:\\Users\\tmari\\AppData\\Roaming\\Python\\Python312\\site-packages\\sklearn\\neural_network\\_multilayer_perceptron.py:690: ConvergenceWarning: Stochastic Optimizer: Maximum iterations (500) reached and the optimization hasn't converged yet.\n",
      "  warnings.warn(\n"
     ]
    },
    {
     "name": "stdout",
     "output_type": "stream",
     "text": [
      "[CV] END activation=relu, hidden_layer_sizes=(50,), learning_rate=adaptive, solver=adam; total time=   1.6s\n"
     ]
    },
    {
     "name": "stderr",
     "output_type": "stream",
     "text": [
      "C:\\Users\\tmari\\AppData\\Roaming\\Python\\Python312\\site-packages\\sklearn\\neural_network\\_multilayer_perceptron.py:690: ConvergenceWarning: Stochastic Optimizer: Maximum iterations (500) reached and the optimization hasn't converged yet.\n",
      "  warnings.warn(\n"
     ]
    },
    {
     "name": "stdout",
     "output_type": "stream",
     "text": [
      "[CV] END activation=relu, hidden_layer_sizes=(50,), learning_rate=adaptive, solver=adam; total time=   1.5s\n",
      "[CV] END activation=relu, hidden_layer_sizes=(50,), learning_rate=adaptive, solver=sgd; total time=   0.6s\n",
      "[CV] END activation=relu, hidden_layer_sizes=(50,), learning_rate=adaptive, solver=sgd; total time=   0.6s\n",
      "[CV] END activation=relu, hidden_layer_sizes=(50,), learning_rate=adaptive, solver=sgd; total time=   0.7s\n",
      "[CV] END activation=relu, hidden_layer_sizes=(50,), learning_rate=adaptive, solver=sgd; total time=   0.7s\n",
      "[CV] END activation=relu, hidden_layer_sizes=(50,), learning_rate=adaptive, solver=sgd; total time=   0.5s\n",
      "[CV] END activation=relu, hidden_layer_sizes=(50,), learning_rate=adaptive, solver=sgd; total time=   0.5s\n"
     ]
    }
   ],
   "source": [
    "# Hyperparameter tuning for the neural network using GridSearchCV\n",
    "from sklearn.model_selection import GridSearchCV\n",
    "\n",
    "# Define the parameter grid\n",
    "param_grid = {\n",
    "    'hidden_layer_sizes': [(50,), (100,), (100, 50), (150, 100, 50)],\n",
    "    'activation': ['relu', 'tanh'],\n",
    "    'solver': ['adam', 'sgd'],\n",
    "    'learning_rate': ['constant', 'adaptive']\n",
    "}\n",
    "\n",
    "# Initialize the GridSearchCV object\n",
    "grid_search = GridSearchCV(\n",
    "    estimator=MLPClassifier(random_state=42, max_iter=500),\n",
    "    param_grid=param_grid,\n",
    "    scoring='f1_weighted',\n",
    "    cv=3,\n",
    "    verbose=2\n",
    ")\n",
    "\n",
    "# Perform the grid search\n",
    "grid_search.fit(X_train, y_train)\n",
    "\n",
    "# Print the best parameters and F1 score\n",
    "print('Best Parameters:', grid_search.best_params_)\n",
    "print('Best F1 Score:', grid_search.best_score_)\n",
    "\n",
    "# Evaluate the best model on the test set\n",
    "best_nn_clf = grid_search.best_estimator_\n",
    "nn_y_pred = best_nn_clf.predict(X_test)\n",
    "print(classification_report(y_test, nn_y_pred))\n",
    "\n",
    "# Best Parameters: {'activation': 'relu', 'hidden_layer_sizes': (150, 100, 50), 'learning_rate': 'constant', 'solver': 'adam'}\n",
    "# Best F1 Score: 0.7356598398204732\n",
    "#               precision    recall  f1-score   support\n",
    "\n",
    "#         2SLS       0.89      0.70      0.79       108\n",
    "#    autobound       0.50      0.21      0.30        57\n",
    "#  causaloptim       0.74      0.91      0.81       235\n",
    "\n",
    "#     accuracy                           0.76       400\n",
    "#    macro avg       0.71      0.61      0.63       400\n",
    "# weighted avg       0.74      0.76      0.73       400\n",
    "\n",
    "# Best Parameters: {'activation': 'relu', 'hidden_layer_sizes': (150, 100, 50), 'learning_rate': 'constant', 'solver': 'adam'}\n",
    "# Best F1 Score: 0.7356598398204732\n",
    "#               precision    recall  f1-score   support\n",
    "\n",
    "#         2SLS       0.89      0.70      0.79       108\n",
    "#    autobound       0.50      0.21      0.30        57\n",
    "#  causaloptim       0.74      0.91      0.81       235\n",
    "\n",
    "#     accuracy                           0.76       400\n",
    "#    macro avg       0.71      0.61      0.63       400\n",
    "# weighted avg       0.74      0.76      0.73       400\n"
   ]
  },
  {
   "cell_type": "code",
   "execution_count": null,
   "id": "a912b2d5",
   "metadata": {},
   "outputs": [],
   "source": [
    "# Run the neural network with the best parameters\n",
    "best_nn_clf = MLPClassifier(\n",
    "    random_state=42,\n",
    "    max_iter=500,\n",
    "    hidden_layer_sizes=(150, 100, 50),\n",
    "    activation='relu',\n",
    "    solver='adam',\n",
    "    learning_rate='constant'\n",
    ")\n",
    "\n",
    "# Train the model\n",
    "best_nn_clf.fit(X_train, y_train)\n",
    "\n",
    "# Evaluate the model\n",
    "nn_y_pred = best_nn_clf.predict(X_test)\n",
    "print(classification_report(y_test, nn_y_pred))"
   ]
  },
  {
   "cell_type": "code",
   "execution_count": null,
   "id": "27ecd86e",
   "metadata": {},
   "outputs": [],
   "source": []
  },
  {
   "cell_type": "markdown",
   "id": "6f0a0832",
   "metadata": {},
   "source": [
    "Idea:\n",
    "* New dataset runs through the classifier\n",
    "* the bounds of the algorithm which the classifier identified as best is automatically returned"
   ]
  }
 ],
 "metadata": {
  "kernelspec": {
   "display_name": "Python 3",
   "language": "python",
   "name": "python3"
  },
  "language_info": {
   "codemirror_mode": {
    "name": "ipython",
    "version": 3
   },
   "file_extension": ".py",
   "mimetype": "text/x-python",
   "name": "python",
   "nbconvert_exporter": "python",
   "pygments_lexer": "ipython3",
   "version": "3.12.6"
  }
 },
 "nbformat": 4,
 "nbformat_minor": 5
}
