{
 "cells": [
  {
   "cell_type": "code",
   "execution_count": 4,
   "id": "edfbb4f5",
   "metadata": {},
   "outputs": [
    {
     "name": "stdout",
     "output_type": "stream",
     "text": [
      "The autoreload extension is already loaded. To reload it, use:\n",
      "  %reload_ext autoreload\n"
     ]
    }
   ],
   "source": [
    "import numpy as np\n",
    "import pandas as pd\n",
    "import sys\n",
    "sys.path.append('../')\n",
    "%load_ext autoreload\n",
    "%autoreload 2\n",
    "from entropy_bounds.utils import optimization_cf\n",
    "from binaryIV import simulate_deterministic_data_with_probabilistic_ate, extract_prob_dict, entropy_of_array\n",
    "from entropy_bounds.entropy_bounds import compute_ate_bounds\n",
    "\n",
    "import warnings\n",
    "warnings.simplefilter(action='ignore', category=FutureWarning)\n",
    "\n",
    "\n",
    "\n",
    "import matplotlib.pyplot as plt\n",
    "import seaborn as sns\n",
    "import math\n",
    "# from linearmodels.iv import IV2SLS\n",
    "import statsmodels.api as sm\n",
    "import statsmodels.formula.api as smf\n",
    "\n",
    "\n",
    "pd.options.mode.chained_assignment = None  # default='warn'\n",
    "\n",
    "\n",
    "pd.set_option('display.max_columns', None)\n",
    "\n",
    "from autobound.causalProblem import causalProblem\n",
    "from autobound.DAG import DAG\n",
    "import io\n"
   ]
  },
  {
   "cell_type": "code",
   "execution_count": 7,
   "id": "dcd4d4c0",
   "metadata": {},
   "outputs": [],
   "source": [
    "data = pd.read_pickle('binaryIV_results.pkl')"
   ]
  },
  {
   "cell_type": "code",
   "execution_count": null,
   "id": "b54e2220",
   "metadata": {},
   "outputs": [
    {
     "name": "stdout",
     "output_type": "stream",
     "text": [
      "   Z  X  Y  prob\n",
      "0  0  0  0   0.2\n",
      "1  0  1  0   0.2\n",
      "2  1  0  0   0.2\n",
      "3  1  0  1   0.2\n",
      "4  1  1  0   0.2\n"
     ]
    }
   ],
   "source": [
    "def compute_joint_probabilities(df):\n",
    "    \"\"\"\n",
    "    Computes the joint probabilities for each combination of Z, X, and Y in the input DataFrame.\n",
    "\n",
    "    Parameters:\n",
    "        df (pd.DataFrame): Input DataFrame with columns ['X', 'Y', 'Z'].\n",
    "\n",
    "    Returns:\n",
    "        pd.DataFrame: DataFrame with columns ['Z', 'X', 'Y', 'prob'] representing the joint probabilities.\n",
    "    \"\"\"\n",
    "    # Count occurrences of each combination of Z, X, Y\n",
    "    joint_counts = df.groupby(['Z', 'X', 'Y']).size().reset_index(name='count')\n",
    "    \n",
    "    # Calculate total number of rows in the input DataFrame\n",
    "    total_count = len(df)\n",
    "    \n",
    "    # Compute probabilities\n",
    "    joint_counts['prob'] = joint_counts['count'] / total_count\n",
    "    \n",
    "    # Drop the count column as it's not needed in the output\n",
    "    joint_probs = joint_counts.drop(columns=['count'])\n",
    "    \n",
    "    return joint_probs\n",
    "\n",
    "# Example usage\n",
    "input_df = pd.DataFrame({\n",
    "    'X': [1, 1, 0, 0, 0],\n",
    "    'Y': [0, 0, 1, 0, 0],\n",
    "    'Z': [0, 1, 1, 1, 0]\n",
    "})\n",
    "\n",
    "result = compute_joint_probabilities(input_df)\n",
    "print(result)"
   ]
  },
  {
   "cell_type": "code",
   "execution_count": null,
   "id": "1cc488c8",
   "metadata": {},
   "outputs": [],
   "source": [
    "def plot_smoothed_ate_vs_bounds(dataframe, window=1):\n",
    "    \"\"\"\n",
    "    Plot smoothed ATE_true and 2SLS confidence intervals from the given dataframe.\n",
    "\n",
    "    Parameters:\n",
    "    dataframe (pd.DataFrame): The input dataframe containing columns 'ATE_true', '2SLS_CI_lower', '2SLS_CI_upper', and 'b_X_Y'.\n",
    "    window (int): The size of the rolling window for smoothing. Default is 1.\n",
    "\n",
    "    Returns:\n",
    "    None\n",
    "    \"\"\"\n",
    "    # Smoothen the data using a rolling average\n",
    "    dataframe['ATE_true_smooth'] = dataframe['ATE_true'].rolling(window=window, center=True).mean()\n",
    "    dataframe['autobound_bound_lower_smooth'] = dataframe['autobound_bound_lower'].rolling(window=window, center=True).mean()\n",
    "    dataframe['autobound_bound_upper_smooth'] = dataframe['autobound_bound_upper'].rolling(window=window, center=True).mean()\n",
    "\n",
    "    # Plot the smoothed data\n",
    "    plt.figure(figsize=(10, 6))\n",
    "    sns.lineplot(data=dataframe, x='b_X_Y', y='ATE_true_smooth', label='$ATE_{true}$', color='blue')\n",
    "    sns.lineplot(data=dataframe, x='b_X_Y', y='autobound_bound_lower_smooth', label='Lower Bound', color='orange')\n",
    "    sns.lineplot(data=dataframe, x='b_X_Y', y='autobound_bound_upper_smooth', label='Upper Bound', color='green')\n",
    "    plt.axhline(0, color='red', linestyle='--', label='Zero Line')\n",
    "    plt.title('autobounds vs $ATE_{true}$ (smoothed out)')\n",
    "    plt.xlabel('b_X_Y Coefficient')\n",
    "    plt.ylabel('ATE Value')\n",
    "    plt.legend()\n",
    "    plt.grid(True)\n",
    "    plt.show()"
   ]
  },
  {
   "cell_type": "code",
   "execution_count": 10,
   "id": "e485eda3",
   "metadata": {},
   "outputs": [
    {
     "name": "stdout",
     "output_type": "stream",
     "text": [
      "Lower Bound: -0.80952380952381\n",
      "Upper Bound: 0.156682027649769\n",
      "True ATE: -0.6494981193401556\n"
     ]
    }
   ],
   "source": [
    "# Minimal working example\n",
    "sim = data.iloc[0]\n",
    "df = pd.DataFrame({'X': sim['X'], 'Y': sim['Y'], 'Z': sim['Z']})\n",
    "joint_probs = compute_joint_probabilities(df)\n",
    "\n",
    "dag = DAG()\n",
    "dag.from_structure(\"Z -> X, X -> Y, U -> X, U -> Y\", unob = \"U\")\n",
    "\n",
    "problem = causalProblem(dag)\n",
    "problem.load_data_pandas(joint_probs)\n",
    "problem.add_prob_constraints()\n",
    "problem.set_ate(ind='X', dep='Y')\n",
    "\n",
    "program = problem.write_program()\n",
    "lb, ub = program.run_pyomo(solver_name='glpk', verbose=False)\n",
    "\n",
    "print(\"Lower Bound:\", lb)\n",
    "print(\"Upper Bound:\", ub)\n",
    "print(\"True ATE:\", sim['ATE_true'])\n",
    "\n"
   ]
  },
  {
   "cell_type": "code",
   "execution_count": 14,
   "id": "317fe423",
   "metadata": {},
   "outputs": [],
   "source": [
    "df_results = data.copy()\n",
    "for idx, sim in df_results.iterrows():\n",
    "    df = pd.DataFrame({'X': sim['X'], 'Y': sim['Y'], 'Z': sim['Z']})\n",
    "    joint_probs = compute_joint_probabilities(df)\n",
    "\n",
    "    dag = DAG()\n",
    "    dag.from_structure(\"Z -> X, X -> Y, U -> X, U -> Y\", unob = \"U\")\n",
    "\n",
    "    problem = causalProblem(dag)\n",
    "    problem.load_data_pandas(joint_probs)\n",
    "    problem.add_prob_constraints()\n",
    "    problem.set_ate(ind='X', dep='Y')\n",
    "\n",
    "    program = problem.write_program()\n",
    "    lb, ub = program.run_pyomo(solver_name='glpk', verbose=False)\n",
    "    # Check if true ATE is within bounds\n",
    "    bounds_valid = lb <= sim['ATE_true'] <= ub\n",
    "\n",
    "    df_results.at[idx, 'autobound_bound_lower'] = lb\n",
    "    df_results.at[idx, 'autobound_bound_upper'] = ub\n",
    "    df_results.at[idx, 'autobound_bound_width'] = ub - lb\n",
    "    df_results.at[idx, 'autobound_bounds_valid'] = bounds_valid\n",
    "\n"
   ]
  },
  {
   "cell_type": "code",
   "execution_count": 17,
   "id": "522e7057",
   "metadata": {},
   "outputs": [
    {
     "ename": "KeyError",
     "evalue": "'autobounds_bound_lower'",
     "output_type": "error",
     "traceback": [
      "\u001b[1;31m---------------------------------------------------------------------------\u001b[0m",
      "\u001b[1;31mKeyError\u001b[0m                                  Traceback (most recent call last)",
      "File \u001b[1;32m~\\AppData\\Roaming\\Python\\Python312\\site-packages\\pandas\\core\\indexes\\base.py:3805\u001b[0m, in \u001b[0;36mIndex.get_loc\u001b[1;34m(self, key)\u001b[0m\n\u001b[0;32m   3804\u001b[0m \u001b[38;5;28;01mtry\u001b[39;00m:\n\u001b[1;32m-> 3805\u001b[0m     \u001b[38;5;28;01mreturn\u001b[39;00m \u001b[38;5;28;43mself\u001b[39;49m\u001b[38;5;241;43m.\u001b[39;49m\u001b[43m_engine\u001b[49m\u001b[38;5;241;43m.\u001b[39;49m\u001b[43mget_loc\u001b[49m\u001b[43m(\u001b[49m\u001b[43mcasted_key\u001b[49m\u001b[43m)\u001b[49m\n\u001b[0;32m   3806\u001b[0m \u001b[38;5;28;01mexcept\u001b[39;00m \u001b[38;5;167;01mKeyError\u001b[39;00m \u001b[38;5;28;01mas\u001b[39;00m err:\n",
      "File \u001b[1;32mindex.pyx:167\u001b[0m, in \u001b[0;36mpandas._libs.index.IndexEngine.get_loc\u001b[1;34m()\u001b[0m\n",
      "File \u001b[1;32mindex.pyx:196\u001b[0m, in \u001b[0;36mpandas._libs.index.IndexEngine.get_loc\u001b[1;34m()\u001b[0m\n",
      "File \u001b[1;32mpandas\\\\_libs\\\\hashtable_class_helper.pxi:7081\u001b[0m, in \u001b[0;36mpandas._libs.hashtable.PyObjectHashTable.get_item\u001b[1;34m()\u001b[0m\n",
      "File \u001b[1;32mpandas\\\\_libs\\\\hashtable_class_helper.pxi:7089\u001b[0m, in \u001b[0;36mpandas._libs.hashtable.PyObjectHashTable.get_item\u001b[1;34m()\u001b[0m\n",
      "\u001b[1;31mKeyError\u001b[0m: 'autobounds_bound_lower'",
      "\nThe above exception was the direct cause of the following exception:\n",
      "\u001b[1;31mKeyError\u001b[0m                                  Traceback (most recent call last)",
      "Cell \u001b[1;32mIn[17], line 1\u001b[0m\n\u001b[1;32m----> 1\u001b[0m \u001b[43mplot_smoothed_ate_vs_bounds\u001b[49m\u001b[43m(\u001b[49m\u001b[43mdf_results\u001b[49m\u001b[43m,\u001b[49m\u001b[43m \u001b[49m\u001b[43mwindow\u001b[49m\u001b[38;5;241;43m=\u001b[39;49m\u001b[38;5;241;43m30\u001b[39;49m\u001b[43m)\u001b[49m\n",
      "Cell \u001b[1;32mIn[16], line 14\u001b[0m, in \u001b[0;36mplot_smoothed_ate_vs_bounds\u001b[1;34m(dataframe, window)\u001b[0m\n\u001b[0;32m     12\u001b[0m \u001b[38;5;66;03m# Smoothen the data using a rolling average\u001b[39;00m\n\u001b[0;32m     13\u001b[0m dataframe[\u001b[38;5;124m'\u001b[39m\u001b[38;5;124mATE_true_smooth\u001b[39m\u001b[38;5;124m'\u001b[39m] \u001b[38;5;241m=\u001b[39m dataframe[\u001b[38;5;124m'\u001b[39m\u001b[38;5;124mATE_true\u001b[39m\u001b[38;5;124m'\u001b[39m]\u001b[38;5;241m.\u001b[39mrolling(window\u001b[38;5;241m=\u001b[39mwindow, center\u001b[38;5;241m=\u001b[39m\u001b[38;5;28;01mTrue\u001b[39;00m)\u001b[38;5;241m.\u001b[39mmean()\n\u001b[1;32m---> 14\u001b[0m dataframe[\u001b[38;5;124m'\u001b[39m\u001b[38;5;124mautobounds_bound_lower_smooth\u001b[39m\u001b[38;5;124m'\u001b[39m] \u001b[38;5;241m=\u001b[39m \u001b[43mdataframe\u001b[49m\u001b[43m[\u001b[49m\u001b[38;5;124;43m'\u001b[39;49m\u001b[38;5;124;43mautobounds_bound_lower\u001b[39;49m\u001b[38;5;124;43m'\u001b[39;49m\u001b[43m]\u001b[49m\u001b[38;5;241m.\u001b[39mrolling(window\u001b[38;5;241m=\u001b[39mwindow, center\u001b[38;5;241m=\u001b[39m\u001b[38;5;28;01mTrue\u001b[39;00m)\u001b[38;5;241m.\u001b[39mmean()\n\u001b[0;32m     15\u001b[0m dataframe[\u001b[38;5;124m'\u001b[39m\u001b[38;5;124mautobounds_bound_upper_smooth\u001b[39m\u001b[38;5;124m'\u001b[39m] \u001b[38;5;241m=\u001b[39m dataframe[\u001b[38;5;124m'\u001b[39m\u001b[38;5;124mautobounds_bound_upper\u001b[39m\u001b[38;5;124m'\u001b[39m]\u001b[38;5;241m.\u001b[39mrolling(window\u001b[38;5;241m=\u001b[39mwindow, center\u001b[38;5;241m=\u001b[39m\u001b[38;5;28;01mTrue\u001b[39;00m)\u001b[38;5;241m.\u001b[39mmean()\n\u001b[0;32m     17\u001b[0m \u001b[38;5;66;03m# Plot the smoothed data\u001b[39;00m\n",
      "File \u001b[1;32m~\\AppData\\Roaming\\Python\\Python312\\site-packages\\pandas\\core\\frame.py:4102\u001b[0m, in \u001b[0;36mDataFrame.__getitem__\u001b[1;34m(self, key)\u001b[0m\n\u001b[0;32m   4100\u001b[0m \u001b[38;5;28;01mif\u001b[39;00m \u001b[38;5;28mself\u001b[39m\u001b[38;5;241m.\u001b[39mcolumns\u001b[38;5;241m.\u001b[39mnlevels \u001b[38;5;241m>\u001b[39m \u001b[38;5;241m1\u001b[39m:\n\u001b[0;32m   4101\u001b[0m     \u001b[38;5;28;01mreturn\u001b[39;00m \u001b[38;5;28mself\u001b[39m\u001b[38;5;241m.\u001b[39m_getitem_multilevel(key)\n\u001b[1;32m-> 4102\u001b[0m indexer \u001b[38;5;241m=\u001b[39m \u001b[38;5;28;43mself\u001b[39;49m\u001b[38;5;241;43m.\u001b[39;49m\u001b[43mcolumns\u001b[49m\u001b[38;5;241;43m.\u001b[39;49m\u001b[43mget_loc\u001b[49m\u001b[43m(\u001b[49m\u001b[43mkey\u001b[49m\u001b[43m)\u001b[49m\n\u001b[0;32m   4103\u001b[0m \u001b[38;5;28;01mif\u001b[39;00m is_integer(indexer):\n\u001b[0;32m   4104\u001b[0m     indexer \u001b[38;5;241m=\u001b[39m [indexer]\n",
      "File \u001b[1;32m~\\AppData\\Roaming\\Python\\Python312\\site-packages\\pandas\\core\\indexes\\base.py:3812\u001b[0m, in \u001b[0;36mIndex.get_loc\u001b[1;34m(self, key)\u001b[0m\n\u001b[0;32m   3807\u001b[0m     \u001b[38;5;28;01mif\u001b[39;00m \u001b[38;5;28misinstance\u001b[39m(casted_key, \u001b[38;5;28mslice\u001b[39m) \u001b[38;5;129;01mor\u001b[39;00m (\n\u001b[0;32m   3808\u001b[0m         \u001b[38;5;28misinstance\u001b[39m(casted_key, abc\u001b[38;5;241m.\u001b[39mIterable)\n\u001b[0;32m   3809\u001b[0m         \u001b[38;5;129;01mand\u001b[39;00m \u001b[38;5;28many\u001b[39m(\u001b[38;5;28misinstance\u001b[39m(x, \u001b[38;5;28mslice\u001b[39m) \u001b[38;5;28;01mfor\u001b[39;00m x \u001b[38;5;129;01min\u001b[39;00m casted_key)\n\u001b[0;32m   3810\u001b[0m     ):\n\u001b[0;32m   3811\u001b[0m         \u001b[38;5;28;01mraise\u001b[39;00m InvalidIndexError(key)\n\u001b[1;32m-> 3812\u001b[0m     \u001b[38;5;28;01mraise\u001b[39;00m \u001b[38;5;167;01mKeyError\u001b[39;00m(key) \u001b[38;5;28;01mfrom\u001b[39;00m \u001b[38;5;21;01merr\u001b[39;00m\n\u001b[0;32m   3813\u001b[0m \u001b[38;5;28;01mexcept\u001b[39;00m \u001b[38;5;167;01mTypeError\u001b[39;00m:\n\u001b[0;32m   3814\u001b[0m     \u001b[38;5;66;03m# If we have a listlike key, _check_indexing_error will raise\u001b[39;00m\n\u001b[0;32m   3815\u001b[0m     \u001b[38;5;66;03m#  InvalidIndexError. Otherwise we fall through and re-raise\u001b[39;00m\n\u001b[0;32m   3816\u001b[0m     \u001b[38;5;66;03m#  the TypeError.\u001b[39;00m\n\u001b[0;32m   3817\u001b[0m     \u001b[38;5;28mself\u001b[39m\u001b[38;5;241m.\u001b[39m_check_indexing_error(key)\n",
      "\u001b[1;31mKeyError\u001b[0m: 'autobounds_bound_lower'"
     ]
    }
   ],
   "source": [
    "plot_smoothed_ate_vs_bounds(df_results, window=30)"
   ]
  }
 ],
 "metadata": {
  "kernelspec": {
   "display_name": "base",
   "language": "python",
   "name": "python3"
  },
  "language_info": {
   "codemirror_mode": {
    "name": "ipython",
    "version": 3
   },
   "file_extension": ".py",
   "mimetype": "text/x-python",
   "name": "python",
   "nbconvert_exporter": "python",
   "pygments_lexer": "ipython3",
   "version": "3.12.3"
  }
 },
 "nbformat": 4,
 "nbformat_minor": 5
}
