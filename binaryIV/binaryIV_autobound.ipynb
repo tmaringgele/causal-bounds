{
 "cells": [
  {
   "cell_type": "code",
   "execution_count": null,
   "id": "edfbb4f5",
   "metadata": {},
   "outputs": [
    {
     "name": "stdout",
     "output_type": "stream",
     "text": [
      "The autoreload extension is already loaded. To reload it, use:\n",
      "  %reload_ext autoreload\n"
     ]
    }
   ],
   "source": [
    "import numpy as np\n",
    "import pandas as pd\n",
    "import sys\n",
    "sys.path.append('../')\n",
    "%load_ext autoreload\n",
    "%autoreload 2\n",
    "from entropy_bounds.utils import optimization_cf\n",
    "from binaryIV import simulate_deterministic_data_with_probabilistic_ate, extract_prob_dict, entropy_of_array\n",
    "from entropy_bounds.entropy_bounds import compute_ate_bounds\n",
    "\n",
    "\n",
    "import matplotlib.pyplot as plt\n",
    "import seaborn as sns\n",
    "import math\n",
    "from linearmodels.iv import IV2SLS\n",
    "import statsmodels.api as sm\n",
    "import statsmodels.formula.api as smf\n",
    "\n",
    "\n",
    "pd.options.mode.chained_assignment = None  # default='warn'\n",
    "pd.options.mode.chained_assignment = None  # default='warn'\n",
    "\n",
    "\n",
    "pd.set_option('display.max_columns', None)\n",
    "\n",
    "from autobound.causalProblem import causalProblem\n",
    "from autobound.DAG import DAG\n",
    "import io\n"
   ]
  },
  {
   "cell_type": "code",
   "execution_count": 4,
   "id": "dcd4d4c0",
   "metadata": {},
   "outputs": [],
   "source": [
    "data = pd.read_pickle('binaryIV_results.pkl')"
   ]
  },
  {
   "cell_type": "code",
   "execution_count": 20,
   "id": "b54e2220",
   "metadata": {},
   "outputs": [
    {
     "name": "stdout",
     "output_type": "stream",
     "text": [
      "   Z  X  Y  prob\n",
      "0  0  0  0   0.2\n",
      "1  0  1  0   0.2\n",
      "2  1  0  0   0.2\n",
      "3  1  0  1   0.2\n",
      "4  1  1  0   0.2\n"
     ]
    }
   ],
   "source": [
    "import pandas as pd\n",
    "\n",
    "def compute_joint_probabilities(df):\n",
    "    \"\"\"\n",
    "    Computes the joint probabilities for each combination of Z, X, and Y in the input DataFrame.\n",
    "\n",
    "    Parameters:\n",
    "        df (pd.DataFrame): Input DataFrame with columns ['X', 'Y', 'Z'].\n",
    "\n",
    "    Returns:\n",
    "        pd.DataFrame: DataFrame with columns ['Z', 'X', 'Y', 'prob'] representing the joint probabilities.\n",
    "    \"\"\"\n",
    "    # Count occurrences of each combination of Z, X, Y\n",
    "    joint_counts = df.groupby(['Z', 'X', 'Y']).size().reset_index(name='count')\n",
    "    \n",
    "    # Calculate total number of rows in the input DataFrame\n",
    "    total_count = len(df)\n",
    "    \n",
    "    # Compute probabilities\n",
    "    joint_counts['prob'] = joint_counts['count'] / total_count\n",
    "    \n",
    "    # Drop the count column as it's not needed in the output\n",
    "    joint_probs = joint_counts.drop(columns=['count'])\n",
    "    \n",
    "    return joint_probs\n",
    "\n",
    "# Example usage\n",
    "input_df = pd.DataFrame({\n",
    "    'X': [1, 1, 0, 0, 0],\n",
    "    'Y': [0, 0, 1, 0, 0],\n",
    "    'Z': [0, 1, 1, 1, 0]\n",
    "})\n",
    "\n",
    "result = compute_joint_probabilities(input_df)\n",
    "print(result)"
   ]
  },
  {
   "cell_type": "code",
   "execution_count": 28,
   "id": "e485eda3",
   "metadata": {},
   "outputs": [
    {
     "name": "stderr",
     "output_type": "stream",
     "text": [
      "C:\\Users\\tmari\\AppData\\Roaming\\Python\\Python312\\site-packages\\autobound\\causalProblem.py:146: FutureWarning: Series.__getitem__ treating keys as positions is deprecated. In a future version, integer keys will always be treated as labels (consistent with DataFrame behavior). To access a value by position, use `ser.iloc[pos]`\n",
      "  query = [ f'{row_data.index[j]}={int(row_data[j])}'\n",
      "C:\\Users\\tmari\\AppData\\Roaming\\Python\\Python312\\site-packages\\autobound\\causalProblem.py:146: FutureWarning: Series.__getitem__ treating keys as positions is deprecated. In a future version, integer keys will always be treated as labels (consistent with DataFrame behavior). To access a value by position, use `ser.iloc[pos]`\n",
      "  query = [ f'{row_data.index[j]}={int(row_data[j])}'\n",
      "C:\\Users\\tmari\\AppData\\Roaming\\Python\\Python312\\site-packages\\autobound\\causalProblem.py:146: FutureWarning: Series.__getitem__ treating keys as positions is deprecated. In a future version, integer keys will always be treated as labels (consistent with DataFrame behavior). To access a value by position, use `ser.iloc[pos]`\n",
      "  query = [ f'{row_data.index[j]}={int(row_data[j])}'\n",
      "C:\\Users\\tmari\\AppData\\Roaming\\Python\\Python312\\site-packages\\autobound\\causalProblem.py:146: FutureWarning: Series.__getitem__ treating keys as positions is deprecated. In a future version, integer keys will always be treated as labels (consistent with DataFrame behavior). To access a value by position, use `ser.iloc[pos]`\n",
      "  query = [ f'{row_data.index[j]}={int(row_data[j])}'\n",
      "C:\\Users\\tmari\\AppData\\Roaming\\Python\\Python312\\site-packages\\autobound\\causalProblem.py:146: FutureWarning: Series.__getitem__ treating keys as positions is deprecated. In a future version, integer keys will always be treated as labels (consistent with DataFrame behavior). To access a value by position, use `ser.iloc[pos]`\n",
      "  query = [ f'{row_data.index[j]}={int(row_data[j])}'\n",
      "C:\\Users\\tmari\\AppData\\Roaming\\Python\\Python312\\site-packages\\autobound\\causalProblem.py:146: FutureWarning: Series.__getitem__ treating keys as positions is deprecated. In a future version, integer keys will always be treated as labels (consistent with DataFrame behavior). To access a value by position, use `ser.iloc[pos]`\n",
      "  query = [ f'{row_data.index[j]}={int(row_data[j])}'\n",
      "C:\\Users\\tmari\\AppData\\Roaming\\Python\\Python312\\site-packages\\autobound\\causalProblem.py:146: FutureWarning: Series.__getitem__ treating keys as positions is deprecated. In a future version, integer keys will always be treated as labels (consistent with DataFrame behavior). To access a value by position, use `ser.iloc[pos]`\n",
      "  query = [ f'{row_data.index[j]}={int(row_data[j])}'\n",
      "C:\\Users\\tmari\\AppData\\Roaming\\Python\\Python312\\site-packages\\autobound\\causalProblem.py:146: FutureWarning: Series.__getitem__ treating keys as positions is deprecated. In a future version, integer keys will always be treated as labels (consistent with DataFrame behavior). To access a value by position, use `ser.iloc[pos]`\n",
      "  query = [ f'{row_data.index[j]}={int(row_data[j])}'\n"
     ]
    }
   ],
   "source": [
    "# Minimal working example\n",
    "sim = data.iloc[0]\n",
    "df = pd.DataFrame({'X': sim['X'], 'Y': sim['Y'], 'Z': sim['Z']})\n",
    "joint_probs = compute_joint_probabilities(df)\n",
    "joint_probs.to_csv('autobound_example.csv', index=False)\n",
    "\n",
    "dag = DAG()\n",
    "dag.from_structure(\"Z -> X, X -> Y, U -> X, U -> Y\", unob = \"U\")\n",
    "\n",
    "problem = causalProblem(dag)\n",
    "problem.load_data_pandas(joint_probs)\n",
    "problem.add_prob_constraints()\n",
    "problem.set_ate(ind='X', dep='Y')\n",
    "\n",
    "\n",
    "\n",
    "\n",
    "# problem.set_ate"
   ]
  }
 ],
 "metadata": {
  "kernelspec": {
   "display_name": "Python 3",
   "language": "python",
   "name": "python3"
  },
  "language_info": {
   "codemirror_mode": {
    "name": "ipython",
    "version": 3
   },
   "file_extension": ".py",
   "mimetype": "text/x-python",
   "name": "python",
   "nbconvert_exporter": "python",
   "pygments_lexer": "ipython3",
   "version": "3.12.6"
  }
 },
 "nbformat": 4,
 "nbformat_minor": 5
}
