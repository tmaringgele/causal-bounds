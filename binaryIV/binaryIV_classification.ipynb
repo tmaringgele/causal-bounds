{
 "cells": [
  {
   "cell_type": "code",
   "execution_count": null,
   "id": "5b0bb40c",
   "metadata": {},
   "outputs": [],
   "source": [
    "import numpy as np\n",
    "import pandas as pd\n",
    "import sys\n",
    "sys.path.append('../')\n",
    "%load_ext autoreload\n",
    "%autoreload 2\n",
    "from binaryIV import simulate_deterministic_data_with_probabilistic_ate, extract_prob_dict, entropy_of_array\n",
    "\n",
    "import warnings\n",
    "warnings.simplefilter(action='ignore', category=FutureWarning)\n",
    "\n",
    "\n",
    "\n",
    "import matplotlib.pyplot as plt\n",
    "import seaborn as sns\n",
    "import math\n",
    "# from linearmodels.iv import IV2SLS\n",
    "import statsmodels.api as sm\n",
    "import statsmodels.formula.api as smf\n",
    "from sklearn.neural_network import MLPClassifier\n",
    "\n",
    "\n",
    "pd.options.mode.chained_assignment = None  # default='warn'\n",
    "\n",
    "\n",
    "pd.set_option('display.max_columns', None)\n",
    "\n",
    "\n"
   ]
  },
  {
   "cell_type": "code",
   "execution_count": 9,
   "id": "4f428a27",
   "metadata": {},
   "outputs": [],
   "source": [
    "data  = pd.read_pickle('binaryIV_results.pkl')\n",
    "# Add a new column 'tightest_bounds' to identify the algorithm with the smallest bound width\n",
    "bound_columns = {\n",
    "    'causaloptim': 'causaloptim_bound_width',\n",
    "    '2SLS': '2SLS_CI_width',\n",
    "    'entropyBounds': 'entropyBounds_bound_width',\n",
    "    'autobound': 'autobound_bound_width'\n",
    "}\n",
    "data['tightest_bounds'] = data[\n",
    "    list(bound_columns.values())\n",
    "].idxmin(axis=1).map({v: k for k, v in bound_columns.items()})"
   ]
  },
  {
   "cell_type": "code",
   "execution_count": 16,
   "id": "ba9ac197",
   "metadata": {},
   "outputs": [
    {
     "data": {
      "text/plain": [
       "<Axes: xlabel='tightest_bounds'>"
      ]
     },
     "execution_count": 16,
     "metadata": {},
     "output_type": "execute_result"
    },
    {
     "data": {
      "image/png": "[encoded data removed]",
      "text/plain": [
       "<Figure size 640x480 with 1 Axes>"
      ]
     },
     "metadata": {},
     "output_type": "display_data"
    }
   ],
   "source": [
    "data['tightest_bounds'].value_counts().plot(kind='bar', alpha=0.5, color='blue')"
   ]
  },
  {
   "cell_type": "code",
   "execution_count": 11,
   "id": "69b5e5b8",
   "metadata": {},
   "outputs": [
    {
     "name": "stdout",
     "output_type": "stream",
     "text": [
      "              precision    recall  f1-score   support\n",
      "\n",
      "        2SLS       0.74      0.80      0.77       108\n",
      "   autobound       0.32      0.37      0.34        57\n",
      " causaloptim       0.74      0.69      0.71       235\n",
      "\n",
      "    accuracy                           0.67       400\n",
      "   macro avg       0.60      0.62      0.61       400\n",
      "weighted avg       0.68      0.67      0.68       400\n",
      "\n"
     ]
    }
   ],
   "source": [
    "# Train a decision tree classifier to predict 'tightest_bounds'\n",
    "from sklearn.tree import DecisionTreeClassifier\n",
    "from sklearn.model_selection import train_test_split\n",
    "from sklearn.metrics import classification_report\n",
    "\n",
    "# Define features and target\n",
    "features = ['entropy_Y', 'entropy_X', 'entropy_Z', 'corr_X_Y', 'corr_X_Z', 'corr_Y_Z']\n",
    "X = data[features]\n",
    "y = data['tightest_bounds']\n",
    "\n",
    "# Split the data into training and testing sets\n",
    "X_train, X_test, y_train, y_test = train_test_split(X, y, test_size=0.2, random_state=42)\n",
    "\n",
    "# Train the decision tree classifier\n",
    "clf = DecisionTreeClassifier(random_state=42)\n",
    "clf.fit(X_train, y_train)\n",
    "\n",
    "# Evaluate the classifier\n",
    "y_pred = clf.predict(X_test)\n",
    "print(classification_report(y_test, y_pred))"
   ]
  },
  {
   "cell_type": "code",
   "execution_count": 27,
   "id": "3f24a6e0",
   "metadata": {},
   "outputs": [
    {
     "name": "stdout",
     "output_type": "stream",
     "text": [
      "              precision    recall  f1-score   support\n",
      "\n",
      "        2SLS       0.80      0.83      0.81       108\n",
      "   autobound       0.36      0.16      0.22        57\n",
      " causaloptim       0.76      0.84      0.80       235\n",
      "\n",
      "    accuracy                           0.74       400\n",
      "   macro avg       0.64      0.61      0.61       400\n",
      "weighted avg       0.71      0.74      0.72       400\n",
      "\n"
     ]
    }
   ],
   "source": [
    "# Train a random forest classifier to predict 'tightest_bounds'\n",
    "from sklearn.ensemble import RandomForestClassifier\n",
    "\n",
    "# Train the random forest classifier\n",
    "rf_clf = RandomForestClassifier(random_state=42, n_estimators=100)\n",
    "rf_clf.fit(X_train, y_train)\n",
    "\n",
    "# Evaluate the random forest classifier\n",
    "rf_y_pred = rf_clf.predict(X_test)\n",
    "print(classification_report(y_test, rf_y_pred))"
   ]
  },
  {
   "cell_type": "code",
   "execution_count": null,
   "id": "d6194aa7",
   "metadata": {},
   "outputs": [],
   "source": [
    "# Hyperparameter tuning for the neural network using GridSearchCV\n",
    "from sklearn.model_selection import GridSearchCV\n",
    "\n",
    "# Define the parameter grid\n",
    "param_grid = {\n",
    "    'hidden_layer_sizes': [(50,), (100,), (100, 50), (150, 100, 50)],\n",
    "    'activation': ['relu', 'tanh'],\n",
    "    'solver': ['adam', 'sgd'],\n",
    "    'learning_rate': ['constant', 'adaptive']\n",
    "}\n",
    "\n",
    "# Initialize the GridSearchCV object\n",
    "grid_search = GridSearchCV(\n",
    "    estimator=MLPClassifier(random_state=42, max_iter=500),\n",
    "    param_grid=param_grid,\n",
    "    scoring='f1_weighted',\n",
    "    cv=3,\n",
    "    verbose=2\n",
    ")\n",
    "\n",
    "# Perform the grid search\n",
    "grid_search.fit(X_train, y_train)\n",
    "\n",
    "# Print the best parameters and F1 score\n",
    "print('Best Parameters:', grid_search.best_params_)\n",
    "print('Best F1 Score:', grid_search.best_score_)\n",
    "\n",
    "# Evaluate the best model on the test set\n",
    "best_nn_clf = grid_search.best_estimator_\n",
    "nn_y_pred = best_nn_clf.predict(X_test)\n",
    "print(classification_report(y_test, nn_y_pred))"
   ]
  },
  {
   "cell_type": "code",
   "execution_count": 14,
   "id": "abe07827",
   "metadata": {},
   "outputs": [
    {
     "name": "stdout",
     "output_type": "stream",
     "text": [
      "              precision    recall  f1-score   support\n",
      "\n",
      "        2SLS       0.89      0.70      0.79       108\n",
      "   autobound       0.50      0.21      0.30        57\n",
      " causaloptim       0.74      0.91      0.81       235\n",
      "\n",
      "    accuracy                           0.76       400\n",
      "   macro avg       0.71      0.61      0.63       400\n",
      "weighted avg       0.74      0.76      0.73       400\n",
      "\n"
     ]
    }
   ],
   "source": [
    "# Run the neural network with the best parameters\n",
    "best_nn_clf = MLPClassifier(\n",
    "    random_state=42,\n",
    "    max_iter=500,\n",
    "    hidden_layer_sizes=(150, 100, 50),\n",
    "    activation='relu',\n",
    "    solver='adam',\n",
    "    learning_rate='constant'\n",
    ")\n",
    "\n",
    "# Train the model\n",
    "best_nn_clf.fit(X_train, y_train)\n",
    "\n",
    "# Evaluate the model\n",
    "nn_y_pred = best_nn_clf.predict(X_test)\n",
    "print(classification_report(y_test, nn_y_pred))"
   ]
  },
  {
   "cell_type": "markdown",
   "id": "6f0a0832",
   "metadata": {},
   "source": [
    "Idea:\n",
    "* New dataset runs through the classifier\n",
    "* the bounds of the algorithm which the classifier identified as best is automatically returned"
   ]
  }
 ],
 "metadata": {
  "kernelspec": {
   "display_name": "Python 3",
   "language": "python",
   "name": "python3"
  },
  "language_info": {
   "codemirror_mode": {
    "name": "ipython",
    "version": 3
   },
   "file_extension": ".py",
   "mimetype": "text/x-python",
   "name": "python",
   "nbconvert_exporter": "python",
   "pygments_lexer": "ipython3",
   "version": "3.12.6"
  }
 },
 "nbformat": 4,
 "nbformat_minor": 5
}
