{
 "cells": [
  {
   "cell_type": "markdown",
   "id": "9d33b2d9",
   "metadata": {},
   "source": [
    "### Set up rpy2"
   ]
  },
  {
   "cell_type": "code",
   "execution_count": 1,
   "id": "5cf4df4d",
   "metadata": {},
   "outputs": [],
   "source": [
    "# user defined R installation\n",
    "import os\n",
    "os.environ['R_HOME'] = 'D:/Program Files/R-4.5.0' #path to your R installation\n"
   ]
  },
  {
   "cell_type": "code",
   "execution_count": 14,
   "id": "8de2a900",
   "metadata": {},
   "outputs": [],
   "source": [
    "import rpy2.robjects as robjects\n",
    "from rpy2.robjects import IntVector, FloatVector\n",
    "from rpy2.robjects.packages import importr"
   ]
  },
  {
   "cell_type": "markdown",
   "id": "ed5f1efb",
   "metadata": {},
   "source": [
    "### Install R Packages"
   ]
  },
  {
   "cell_type": "code",
   "execution_count": 18,
   "id": "e02a8947",
   "metadata": {},
   "outputs": [],
   "source": [
    "# Import R's utility package\n",
    "utils = importr('utils')\n",
    "\n",
    "# Import the causaloptim package\n",
    "causaloptim = importr('causaloptim')\n"
   ]
  },
  {
   "cell_type": "markdown",
   "id": "08222690",
   "metadata": {},
   "source": [
    "### Define Graph"
   ]
  },
  {
   "cell_type": "code",
   "execution_count": 19,
   "id": "5fb29649",
   "metadata": {},
   "outputs": [],
   "source": [
    "robjects.r('''\n",
    "b <- igraph::graph_from_literal(Z -+ X, X -+ Y, Ur -+ X, Ur -+ Y, M -+ Y)\n",
    "''')\n"
   ]
  },
  {
   "cell_type": "code",
   "execution_count": 20,
   "id": "9bbc9e6f",
   "metadata": {},
   "outputs": [],
   "source": [
    "# Define the probability values\n",
    "probabilities = {\n",
    "    'p00_0': 1426 / 1888,\n",
    "    'p10_0': 97 / 1888,\n",
    "    'p01_0': 332 / 1888,\n",
    "    'p11_0': 33 / 1888,\n",
    "    'p00_1': 1081 / 1918,\n",
    "    'p10_1': 86 / 1918,\n",
    "    'p01_1': 669 / 1918,\n",
    "    'p11_1': 82 / 1918\n",
    "}\n"
   ]
  },
  {
   "cell_type": "code",
   "execution_count": null,
   "id": "8bcf01ed",
   "metadata": {},
   "outputs": [],
   "source": [
    "# Assign each probability to the R environment\n",
    "# This loop iterates over the probabilities dictionary and assigns each value to a variable in R with the corresponding name.\n",
    "\n",
    "for name, value in probabilities.items():\n",
    "    robjects.globalenv[name] = value\n"
   ]
  }
 ],
 "metadata": {
  "kernelspec": {
   "display_name": "Python 3",
   "language": "python",
   "name": "python3"
  },
  "language_info": {
   "codemirror_mode": {
    "name": "ipython",
    "version": 3
   },
   "file_extension": ".py",
   "mimetype": "text/x-python",
   "name": "python",
   "nbconvert_exporter": "python",
   "pygments_lexer": "ipython3",
   "version": "3.12.6"
  }
 },
 "nbformat": 4,
 "nbformat_minor": 5
}
