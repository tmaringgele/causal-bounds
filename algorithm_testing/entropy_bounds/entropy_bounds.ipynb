{
 "cells": [
  {
   "cell_type": "code",
   "execution_count": 2,
   "id": "b3306941",
   "metadata": {},
   "outputs": [],
   "source": [
    "%load_ext autoreload\n",
    "%autoreload 2\n",
    "\n",
    "import argparse\n",
    "from utils import optimization_cf\n",
    "import numpy as np\n"
   ]
  },
  {
   "cell_type": "code",
   "execution_count": 18,
   "id": "21754fc4",
   "metadata": {},
   "outputs": [],
   "source": [
    "\n",
    "\n",
    "x = .5 # The marginal probability P(x) that corresponding to P(y|do(x))\n",
    "y_x = .5 # The conditional probability P(y|x) that corresponding to p(y|do(x))\n",
    "entr = 100 # The upper bound of confounder entropy\n",
    "x_bar = 1 - x\n",
    "y_bar_x = 1 - y_x"
   ]
  },
  {
   "cell_type": "code",
   "execution_count": 11,
   "id": "e6ec7ab9",
   "metadata": {},
   "outputs": [
    {
     "name": "stdout",
     "output_type": "stream",
     "text": [
      "The bounds of P(y|do(x)) is [0.251, 0.749]\n"
     ]
    }
   ],
   "source": [
    "## Construct the joint distribution. Our experiment shows the bounds only depends on the value of p(y|x) and p(x), we pick arbitrary values for other entries.\n",
    "pyx = np.array([[y_x*x, y_bar_x*x], [x_bar*0.5 , x_bar*0.5]]).T\n",
    "lb, ub, _ = optimization_cf(pyx, ub=entr, p =0, q=0)\n",
    "print(f\"The bounds of P(y|do(x)) is [{round(lb,3)}, {round(ub,3)}]\")"
   ]
  }
 ],
 "metadata": {
  "kernelspec": {
   "display_name": "Python 3",
   "language": "python",
   "name": "python3"
  },
  "language_info": {
   "codemirror_mode": {
    "name": "ipython",
    "version": 3
   },
   "file_extension": ".py",
   "mimetype": "text/x-python",
   "name": "python",
   "nbconvert_exporter": "python",
   "pygments_lexer": "ipython3",
   "version": "3.12.6"
  }
 },
 "nbformat": 4,
 "nbformat_minor": 5
}
