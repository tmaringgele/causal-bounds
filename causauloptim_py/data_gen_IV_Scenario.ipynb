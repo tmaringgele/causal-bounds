{
  "cells": [
    {
      "cell_type": "code",
      "execution_count": 1,
      "id": "2c281bdb",
      "metadata": {
        "id": "2c281bdb"
      },
      "outputs": [],
      "source": [
        "import numpy as np\n",
        "import pandas as pd"
      ]
    },
    {
      "cell_type": "code",
      "execution_count": 59,
      "id": "219840e6",
      "metadata": {
        "colab": {
          "base_uri": "https://localhost:8080/",
          "height": 447
        },
        "id": "219840e6",
        "outputId": "395a01ac-a2d9-4939-9756-f02e915e4ff7"
      },
      "outputs": [
        {
          "data": {
            "text/plain": [
              "<Axes: >"
            ]
          },
          "execution_count": 59,
          "metadata": {},
          "output_type": "execute_result"
        },
        {
          "data": {
            "image/png": "[encoded data removed]",
            "text/plain": [
              "<Figure size 640x480 with 1 Axes>"
            ]
          },
          "metadata": {},
          "output_type": "display_data"
        }
      ],
      "source": [
        "def simulate_with_target_ate(\n",
        "    n=5000,\n",
        "    min_ate=0.00,\n",
        "    max_ate=1.00,\n",
        "    max_attempts=1000,\n",
        "    coef_ranges=None,\n",
        "    intercept_ranges=None,\n",
        "    noise_std=0.5\n",
        "):\n",
        "    \"\"\"\n",
        "    Simulates data for binary treatment effect analysis.\n",
        "    Fixes clustering by:\n",
        "    - Using continuous U ~ N(0,1)\n",
        "    - Adding Gaussian noise to logits\n",
        "\n",
        "    Returns dict with true ATE and all coefficients.\n",
        "    \"\"\"\n",
        "    if coef_ranges is None:\n",
        "        coef_ranges = {\n",
        "            'b_Z': (0.0, 3.0),\n",
        "            'b_U_X': (0.0, 3.0),\n",
        "            'b_X_Y': (0.0, 20.0),\n",
        "            'b_U_Y': (0.0, 3.0)\n",
        "        }\n",
        "    if intercept_ranges is None:\n",
        "        intercept_ranges = {\n",
        "            'intercept_X': (-4.0, 4.0),\n",
        "            'intercept_Y': (-4.0, 4.0)\n",
        "        }\n",
        "\n",
        "    for attempt in range(max_attempts):\n",
        "        seed = np.random.randint(0, 1e6)\n",
        "        np.random.seed(seed)\n",
        "\n",
        "        # Coefficients\n",
        "        b_Z = np.random.uniform(*coef_ranges['b_Z'])\n",
        "        b_U_X = np.random.uniform(*coef_ranges['b_U_X'])\n",
        "        b_X_Y = np.random.uniform(*coef_ranges['b_X_Y'])\n",
        "        b_U_Y = np.random.uniform(*coef_ranges['b_U_Y'])\n",
        "\n",
        "        intercept_X = np.random.uniform(*intercept_ranges['intercept_X'])\n",
        "        intercept_Y = np.random.uniform(*intercept_ranges['intercept_Y'])\n",
        "\n",
        "        # Generate continuous latent confounder\n",
        "        Z = np.random.binomial(1, 0.5, size=n)\n",
        "        U = np.random.normal(0, 1, size=n)\n",
        "\n",
        "        # Generate treatment X\n",
        "        logit_X = intercept_X + b_Z * Z + b_U_X * U\n",
        "        p_X = 1 / (1 + np.exp(-logit_X))\n",
        "        X = np.random.binomial(1, p_X)\n",
        "\n",
        "        # Generate outcome Y with noise\n",
        "        logit_Y = intercept_Y + b_X_Y * X + b_U_Y * U + np.random.normal(0, noise_std, size=n)\n",
        "        p_Y = 1 / (1 + np.exp(-logit_Y))\n",
        "        Y = np.random.binomial(1, p_Y)\n",
        "\n",
        "        # Counterfactual outcomes with same noise structure\n",
        "        logit_Y1 = intercept_Y + b_X_Y * 1 + b_U_Y * U + np.random.normal(0, noise_std, size=n)\n",
        "        logit_Y0 = intercept_Y + b_X_Y * 0 + b_U_Y * U + np.random.normal(0, noise_std, size=n)\n",
        "        p_Y1 = 1 / (1 + np.exp(-logit_Y1))\n",
        "        p_Y0 = 1 / (1 + np.exp(-logit_Y0))\n",
        "        ATE_true = np.mean(p_Y1 - p_Y0)\n",
        "\n",
        "        if min_ate <= ATE_true <= max_ate:\n",
        "            return {\n",
        "                'seed': seed,\n",
        "                'b_Z': b_Z,\n",
        "                'b_U_X': b_U_X,\n",
        "                'b_X_Y': b_X_Y,\n",
        "                'b_U_Y': b_U_Y,\n",
        "                'intercept_X': intercept_X,\n",
        "                'intercept_Y': intercept_Y,\n",
        "                'ATE_true': ATE_true,\n",
        "                'Z': Z,\n",
        "                'U': U,\n",
        "                'X': X,\n",
        "                'Y': Y\n",
        "            }\n",
        "\n",
        "    raise ValueError(f\"Failed to generate ATE in range [{min_ate}, {max_ate}] after {max_attempts} attempts\")\n",
        "\n",
        "def simulate_uniform_ate_distribution(\n",
        "    n=5000,\n",
        "    n_bins=10,\n",
        "    samples_per_bin=50,\n",
        "    bin_range=(0.05, 0.95),\n",
        "    simulate_kwargs=None,\n",
        "    max_attempts=30000,\n",
        "    verbose=True\n",
        "):\n",
        "    if simulate_kwargs is None:\n",
        "        simulate_kwargs = {}\n",
        "\n",
        "    bins = np.linspace(*bin_range, n_bins + 1)\n",
        "    bin_counts = np.zeros(n_bins, dtype=int)\n",
        "    data = []\n",
        "\n",
        "    attempts = 0\n",
        "    total_required = n_bins * samples_per_bin\n",
        "\n",
        "    while sum(bin_counts) < total_required and attempts < max_attempts:\n",
        "        sim = simulate_with_target_ate(n=n, min_ate=bin_range[0], max_ate=bin_range[1], **simulate_kwargs)\n",
        "        ate = sim[\"ATE_true\"]\n",
        "        bin_idx = np.digitize(ate, bins) - 1\n",
        "\n",
        "        if 0 <= bin_idx < n_bins and bin_counts[bin_idx] < samples_per_bin:\n",
        "            bin_counts[bin_idx] += 1\n",
        "            data.append(sim)\n",
        "\n",
        "        attempts += 1\n",
        "\n",
        "    if attempts >= max_attempts and sum(bin_counts) < total_required:\n",
        "        print(f\"⚠️ Warning: Only filled {sum(bin_counts)} / {total_required} samples after {attempts} attempts.\")\n",
        "        if verbose:\n",
        "            for i in range(n_bins):\n",
        "                print(f\"  Bin {i} ({bins[i]:.2f}-{bins[i+1]:.2f}): {bin_counts[i]} samples\")\n",
        "\n",
        "    return data\n",
        "\n",
        "\n",
        "\n",
        "\n",
        "sim_data = simulate_uniform_ate_distribution(\n",
        "    n=5000,\n",
        "    n_bins=20,\n",
        "    samples_per_bin=100,\n",
        "    simulate_kwargs={'noise_std': 1.0},  # more variation!\n",
        "    verbose=True\n",
        ")\n",
        "\n",
        "df_uniform = pd.DataFrame(sim_data)\n",
        "df_uniform.ATE_true.hist(bins=20)\n"
      ]
    },
    {
      "cell_type": "code",
      "execution_count": 41,
      "id": "EGep1hOP6ZHn",
      "metadata": {
        "colab": {
          "base_uri": "https://localhost:8080/",
          "height": 748
        },
        "id": "EGep1hOP6ZHn",
        "outputId": "f4ddd3aa-433e-40bd-c826-18e5440674c4"
      },
      "outputs": [
        {
          "data": {
            "text/html": [
              "<div>\n",
              "<style scoped>\n",
              "    .dataframe tbody tr th:only-of-type {\n",
              "        vertical-align: middle;\n",
              "    }\n",
              "\n",
              "    .dataframe tbody tr th {\n",
              "        vertical-align: top;\n",
              "    }\n",
              "\n",
              "    .dataframe thead th {\n",
              "        text-align: right;\n",
              "    }\n",
              "</style>\n",
              "<table border=\"1\" class=\"dataframe\">\n",
              "  <thead>\n",
              "    <tr style=\"text-align: right;\">\n",
              "      <th></th>\n",
              "      <th>ATE_true</th>\n",
              "    </tr>\n",
              "  </thead>\n",
              "  <tbody>\n",
              "    <tr>\n",
              "      <th>count</th>\n",
              "      <td>2000.000000</td>\n",
              "    </tr>\n",
              "    <tr>\n",
              "      <th>mean</th>\n",
              "      <td>0.499764</td>\n",
              "    </tr>\n",
              "    <tr>\n",
              "      <th>std</th>\n",
              "      <td>0.259858</td>\n",
              "    </tr>\n",
              "    <tr>\n",
              "      <th>min</th>\n",
              "      <td>0.050550</td>\n",
              "    </tr>\n",
              "    <tr>\n",
              "      <th>25%</th>\n",
              "      <td>0.274889</td>\n",
              "    </tr>\n",
              "    <tr>\n",
              "      <th>50%</th>\n",
              "      <td>0.499948</td>\n",
              "    </tr>\n",
              "    <tr>\n",
              "      <th>75%</th>\n",
              "      <td>0.724690</td>\n",
              "    </tr>\n",
              "    <tr>\n",
              "      <th>max</th>\n",
              "      <td>0.949893</td>\n",
              "    </tr>\n",
              "  </tbody>\n",
              "</table>\n",
              "</div><br><label><b>dtype:</b> float64</label>"
            ],
            "text/plain": [
              "count    2000.000000\n",
              "mean        0.499764\n",
              "std         0.259858\n",
              "min         0.050550\n",
              "25%         0.274889\n",
              "50%         0.499948\n",
              "75%         0.724690\n",
              "max         0.949893\n",
              "Name: ATE_true, dtype: float64"
            ]
          },
          "execution_count": 41,
          "metadata": {},
          "output_type": "execute_result"
        },
        {
          "data": {
            "image/png": "[encoded data removed]",
            "text/plain": [
              "<Figure size 640x480 with 1 Axes>"
            ]
          },
          "metadata": {},
          "output_type": "display_data"
        }
      ],
      "source": [
        "df_uniform.ATE_true.hist(bins=100)\n",
        "df_uniform.ATE_true.describe()\n"
      ]
    },
    {
      "cell_type": "code",
      "execution_count": 57,
      "id": "bd7e7e51",
      "metadata": {
        "colab": {
          "base_uri": "https://localhost:8080/",
          "height": 867
        },
        "id": "bd7e7e51",
        "outputId": "0d184aeb-4ddd-45af-b2b7-943c88b481fe"
      },
      "outputs": [
        {
          "name": "stderr",
          "output_type": "stream",
          "text": [
            "<ipython-input-57-27ca2d4d3dc9>:20: FutureWarning: The default of observed=False is deprecated and will be changed to True in a future version of pandas. Pass observed=False to retain current behavior or observed=True to adopt the future default and silence this warning.\n",
            "  df.groupby(\"bin\")\n"
          ]
        },
        {
          "name": "stdout",
          "output_type": "stream",
          "text": [
            "<class 'pandas.core.frame.DataFrame'>\n",
            "RangeIndex: 1100 entries, 0 to 1099\n",
            "Data columns (total 12 columns):\n",
            " #   Column       Non-Null Count  Dtype  \n",
            "---  ------       --------------  -----  \n",
            " 0   seed         1100 non-null   int64  \n",
            " 1   b_Z          1100 non-null   float64\n",
            " 2   b_U_X        1100 non-null   float64\n",
            " 3   b_X_Y        1100 non-null   float64\n",
            " 4   b_U_Y        1100 non-null   float64\n",
            " 5   intercept_X  1100 non-null   float64\n",
            " 6   intercept_Y  1100 non-null   float64\n",
            " 7   ATE_true     1100 non-null   float64\n",
            " 8   Z            1100 non-null   object \n",
            " 9   U            1100 non-null   object \n",
            " 10  X            1100 non-null   object \n",
            " 11  Y            1100 non-null   object \n",
            "dtypes: float64(7), int64(1), object(4)\n",
            "memory usage: 103.3+ KB\n"
          ]
        },
        {
          "name": "stderr",
          "output_type": "stream",
          "text": [
            "<ipython-input-57-27ca2d4d3dc9>:21: DeprecationWarning: DataFrameGroupBy.apply operated on the grouping columns. This behavior is deprecated, and in a future version of pandas the grouping columns will be excluded from the operation. Either pass `include_groups=False` to exclude the groupings or explicitly select the grouping columns after groupby to silence this warning.\n",
            "  .apply(lambda g: g.sample(n=min_count, random_state=42))\n"
          ]
        },
        {
          "data": {
            "text/plain": [
              "array([0, 0, 1, ..., 0, 1, 1])"
            ]
          },
          "execution_count": 57,
          "metadata": {},
          "output_type": "execute_result"
        },
        {
          "data": {
            "image/png": "[encoded data removed]",
            "text/plain": [
              "<Figure size 640x480 with 1 Axes>"
            ]
          },
          "metadata": {},
          "output_type": "display_data"
        }
      ],
      "source": [
        "def trim_to_min_per_bin(df, col='ATE_true', n_bins=20, verbose=True):\n",
        "    \"\"\"\n",
        "    Trims samples in each bin to match the bin with the fewest samples.\n",
        "    Ensures a flat histogram across bins.\n",
        "    \"\"\"\n",
        "    # Create bins\n",
        "    bins = np.linspace(df[col].min(), df[col].max(), n_bins + 1)\n",
        "    df[\"bin\"] = pd.cut(df[col], bins=bins, include_lowest=True)\n",
        "\n",
        "    # Count samples per bin\n",
        "    bin_counts = df[\"bin\"].value_counts().sort_index()\n",
        "    min_count = bin_counts.min()\n",
        "\n",
        "    if verbose:\n",
        "        print(f\"Minimum bin count: {min_count}\")\n",
        "        print(bin_counts)\n",
        "\n",
        "    # Sample min_count from each bin\n",
        "    trimmed_df = (\n",
        "        df.groupby(\"bin\")\n",
        "        .apply(lambda g: g.sample(n=min_count, random_state=42))\n",
        "        .reset_index(drop=True)\n",
        "        .drop(columns=[\"bin\"])\n",
        "    )\n",
        "    return trimmed_df\n",
        "\n",
        "df_flat = trim_to_min_per_bin(df_uniform, col='ATE_true', n_bins=100, verbose=False)\n",
        "df_flat.ATE_true.hist(bins=200)\n",
        "df_flat.info()\n",
        "df_flat.Z.iloc[1]\n",
        "\n"
      ]
    },
    {
      "cell_type": "code",
      "execution_count": 58,
      "id": "LSAKomHj9tnm",
      "metadata": {
        "id": "LSAKomHj9tnm"
      },
      "outputs": [],
      "source": [
        "df_flat.to_pickle(\"synthetic_ate_dataset.pkl\")\n"
      ]
    }
  ],
  "metadata": {
    "colab": {
      "provenance": []
    },
    "kernelspec": {
      "display_name": "Python 3",
      "name": "python3"
    },
    "language_info": {
      "codemirror_mode": {
        "name": "ipython",
        "version": 3
      },
      "file_extension": ".py",
      "mimetype": "text/x-python",
      "name": "python",
      "nbconvert_exporter": "python",
      "pygments_lexer": "ipython3",
      "version": "3.12.6"
    }
  },
  "nbformat": 4,
  "nbformat_minor": 5
}
