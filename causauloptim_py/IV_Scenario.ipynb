{
 "cells": [
  {
   "cell_type": "code",
   "execution_count": 2,
   "id": "4c504e5b",
   "metadata": {},
   "outputs": [],
   "source": [
    "# user defined R installation\n",
    "import os\n",
    "os.environ['R_HOME'] = 'D:/Program Files/R-4.5.0' #path to your R installation\n",
    "%load_ext autoreload\n",
    "%autoreload 2\n",
    "\n",
    "import numpy as np\n",
    "import pandas as pd\n",
    "import rpy2.robjects as robjects\n",
    "from rpy2.robjects import globalenv\n",
    "from rpy2.robjects.packages import importr\n",
    "from rpy2.robjects.vectors import FloatVector\n",
    "\n",
    "from causaloptim_python import run_experiment, extract_prob_dict\n",
    "\n",
    "import matplotlib.pyplot as plt\n",
    "import seaborn as sns\n",
    "\n",
    "\n",
    "\n",
    "# Load R packages\n",
    "#igraph = importr('igraph')\n",
    "causaloptim = importr('causaloptim')\n",
    "base = importr('base')"
   ]
  },
  {
   "cell_type": "markdown",
   "id": "828535c2",
   "metadata": {},
   "source": [
    "#### Data Generation"
   ]
  },
  {
   "cell_type": "code",
   "execution_count": 256,
   "id": "c8f1e295",
   "metadata": {},
   "outputs": [
    {
     "data": {
      "text/plain": [
       "count    1100.000000\n",
       "mean        0.500307\n",
       "std         0.259662\n",
       "min         0.050771\n",
       "25%         0.276058\n",
       "50%         0.499937\n",
       "75%         0.724690\n",
       "max         0.949870\n",
       "Name: ATE_true, dtype: float64"
      ]
     },
     "execution_count": 256,
     "metadata": {},
     "output_type": "execute_result"
    }
   ],
   "source": [
    "df_loaded = pd.read_pickle(\"synthetic_ate_dataset.pkl\")\n",
    "df_loaded.head()\n",
    "df_loaded.ATE_true.describe()"
   ]
  },
  {
   "cell_type": "code",
   "execution_count": 274,
   "id": "a4a114c1",
   "metadata": {},
   "outputs": [],
   "source": [
    "sim = df_loaded.iloc[0]\n",
    "df = pd.DataFrame({'Y': sim['Y'], 'X': sim['X'], 'Z': sim['Z']})"
   ]
  },
  {
   "cell_type": "code",
   "execution_count": 275,
   "id": "21da13ca",
   "metadata": {},
   "outputs": [
    {
     "name": "stdout",
     "output_type": "stream",
     "text": [
      "Seed: 57006\n",
      "Coefficients: b_Z=2.737257857041065, b_U_X=1.5551546948962143, b_X_Y=0.6720548733267528, b_U_Y=1.7774389104858237\n",
      "True ATE: 0.05263147424100262\n",
      "Bounds: 0.192 — 0.241\n"
     ]
    }
   ],
   "source": [
    "\n",
    "graph_str = \"(Z -+ X, X -+ Y, Ur -+ X, Ur -+ Y)\"\n",
    "leftside = [1, 0, 0, 0]\n",
    "latent   = [0, 0, 0, 1]\n",
    "nvals    = [2, 2, 2, 2]\n",
    "rlconnect = [0, 0, 0, 0]\n",
    "monotone = [0, 0, 0, 0]\n",
    "\n",
    "prob_dict = extract_prob_dict(df)\n",
    "r_bounds = run_experiment(\n",
    "    graph_str, leftside, latent, nvals, rlconnect, monotone, prob_dict\n",
    ")\n",
    "bound_lower = float(r_bounds[0][0])\n",
    "bound_upper = float(r_bounds[1][0])\n",
    "\n",
    "print(f\"Seed: {sim['seed']}\")\n",
    "print(f\"Coefficients: b_Z={sim['b_Z']}, b_U_X={sim['b_U_X']}, b_X_Y={sim['b_X_Y']}, b_U_Y={sim['b_U_Y']}\")\n",
    "print(f\"True ATE: {sim['ATE_true']}\")\n",
    "print(f\"Bounds: {bound_lower:.3f} — {bound_upper:.3f}\")"
   ]
  },
  {
   "cell_type": "markdown",
   "id": "0893491a",
   "metadata": {},
   "source": [
    "#### causaloptim"
   ]
  },
  {
   "cell_type": "code",
   "execution_count": 287,
   "id": "f273d121",
   "metadata": {},
   "outputs": [
    {
     "name": "stdout",
     "output_type": "stream",
     "text": [
      "True ATE: 0.19725243674534862\n",
      "Bounds: (<rpy2.robjects.vectors.FloatVector object at 0x000001765E059450> [14]\n",
      "R classes: ('numeric',)\n",
      "[-0.117957], <rpy2.robjects.vectors.FloatVector object at 0x0000017657DCB6D0> [14]\n",
      "R classes: ('numeric',)\n",
      "[0.545062])\n"
     ]
    }
   ],
   "source": [
    "# Set seed and generate synthetic data in Python\n",
    "np.random.seed(299128)\n",
    "n = 5000\n",
    "Z = np.random.binomial(1, 0.5, size=n)\n",
    "U = np.random.binomial(1, 0.5, size=n)\n",
    "\n",
    "# X ~ Z + U\n",
    "logit_X = -1 + 1.5 * Z + 1.2 * U\n",
    "p_X = 1 / (1 + np.exp(-logit_X))\n",
    "X = np.random.binomial(1, p_X)\n",
    "\n",
    "# Y ~ X + U\n",
    "beta_X, beta_U = 1.0, 1.5\n",
    "logit_Y = -0.5 + beta_X * X + beta_U * U\n",
    "p_Y = 1 / (1 + np.exp(-logit_Y))\n",
    "Y = np.random.binomial(1, p_Y)\n",
    "\n",
    "df = pd.DataFrame({'Y': Y, 'X': X, 'Z': Z})\n",
    "\n",
    "# Ground truth ATE\n",
    "logit_Y1 = -0.5 + beta_X * 1 + beta_U * U\n",
    "logit_Y0 = -0.5 + beta_X * 0 + beta_U * U\n",
    "p_Y1 = 1 / (1 + np.exp(-logit_Y1))\n",
    "p_Y0 = 1 / (1 + np.exp(-logit_Y0))\n",
    "ATE_true = np.mean(p_Y1 - p_Y0)\n",
    "print(\"True ATE:\", ATE_true)\n",
    "\n",
    "\n",
    "graph_str = \"(Z -+ X, X -+ Y, Ur -+ X, Ur -+ Y)\"\n",
    "leftside = [1, 0, 0, 0]\n",
    "latent   = [0, 0, 0, 1]\n",
    "nvals    = [2, 2, 2, 2]\n",
    "rlconnect = [0, 0, 0, 0]\n",
    "monotone = [0, 0, 0, 0]\n",
    "\n",
    "prob_dict = extract_prob_dict(df)\n",
    "\n",
    "\n",
    "bounds = run_experiment(graph_str, leftside, latent, nvals, rlconnect, monotone, prob_dict)\n",
    "print(\"Bounds:\", bounds)"
   ]
  },
  {
   "cell_type": "markdown",
   "id": "13a30d85",
   "metadata": {},
   "source": [
    "#### Varying Synthetic Data"
   ]
  },
  {
   "cell_type": "code",
   "execution_count": 283,
   "id": "9baf6585",
   "metadata": {},
   "outputs": [
    {
     "ename": "KeyboardInterrupt",
     "evalue": "",
     "output_type": "error",
     "traceback": [
      "\u001b[1;31m---------------------------------------------------------------------------\u001b[0m",
      "\u001b[1;31mKeyboardInterrupt\u001b[0m                         Traceback (most recent call last)",
      "Cell \u001b[1;32mIn[283], line 124\u001b[0m\n\u001b[0;32m    117\u001b[0m                 \u001b[38;5;28mprint\u001b[39m(\u001b[38;5;124mf\u001b[39m\u001b[38;5;124m\"\u001b[39m\u001b[38;5;124m  Bin \u001b[39m\u001b[38;5;132;01m{\u001b[39;00mi\u001b[38;5;132;01m}\u001b[39;00m\u001b[38;5;124m (\u001b[39m\u001b[38;5;132;01m{\u001b[39;00mbins[i]\u001b[38;5;132;01m:\u001b[39;00m\u001b[38;5;124m.2f\u001b[39m\u001b[38;5;132;01m}\u001b[39;00m\u001b[38;5;124m-\u001b[39m\u001b[38;5;132;01m{\u001b[39;00mbins[i\u001b[38;5;241m+\u001b[39m\u001b[38;5;241m1\u001b[39m]\u001b[38;5;132;01m:\u001b[39;00m\u001b[38;5;124m.2f\u001b[39m\u001b[38;5;132;01m}\u001b[39;00m\u001b[38;5;124m): \u001b[39m\u001b[38;5;132;01m{\u001b[39;00mbin_counts[i]\u001b[38;5;132;01m}\u001b[39;00m\u001b[38;5;124m samples\u001b[39m\u001b[38;5;124m\"\u001b[39m)\n\u001b[0;32m    119\u001b[0m     \u001b[38;5;28;01mreturn\u001b[39;00m data\n\u001b[1;32m--> 124\u001b[0m sim_data \u001b[38;5;241m=\u001b[39m \u001b[43msimulate_uniform_ate_distribution\u001b[49m\u001b[43m(\u001b[49m\n\u001b[0;32m    125\u001b[0m \u001b[43m    \u001b[49m\u001b[43mn\u001b[49m\u001b[38;5;241;43m=\u001b[39;49m\u001b[38;5;241;43m5000\u001b[39;49m\u001b[43m,\u001b[49m\n\u001b[0;32m    126\u001b[0m \u001b[43m    \u001b[49m\u001b[43mn_bins\u001b[49m\u001b[38;5;241;43m=\u001b[39;49m\u001b[38;5;241;43m5\u001b[39;49m\u001b[43m,\u001b[49m\n\u001b[0;32m    127\u001b[0m \u001b[43m    \u001b[49m\u001b[43msamples_per_bin\u001b[49m\u001b[38;5;241;43m=\u001b[39;49m\u001b[38;5;241;43m50\u001b[39;49m\u001b[43m,\u001b[49m\n\u001b[0;32m    128\u001b[0m \u001b[43m    \u001b[49m\u001b[43msimulate_kwargs\u001b[49m\u001b[38;5;241;43m=\u001b[39;49m\u001b[43m{\u001b[49m\u001b[38;5;124;43m'\u001b[39;49m\u001b[38;5;124;43mnoise_std\u001b[39;49m\u001b[38;5;124;43m'\u001b[39;49m\u001b[43m:\u001b[49m\u001b[43m \u001b[49m\u001b[38;5;241;43m1.0\u001b[39;49m\u001b[43m}\u001b[49m\u001b[43m,\u001b[49m\u001b[43m  \u001b[49m\u001b[38;5;66;43;03m# more variation!\u001b[39;49;00m\n\u001b[0;32m    129\u001b[0m \u001b[43m    \u001b[49m\u001b[43mverbose\u001b[49m\u001b[38;5;241;43m=\u001b[39;49m\u001b[38;5;28;43;01mTrue\u001b[39;49;00m\n\u001b[0;32m    130\u001b[0m \u001b[43m)\u001b[49m\n\u001b[0;32m    132\u001b[0m df_uniform \u001b[38;5;241m=\u001b[39m pd\u001b[38;5;241m.\u001b[39mDataFrame(sim_data)\n\u001b[0;32m    133\u001b[0m df_uniform\u001b[38;5;241m.\u001b[39mATE_true\u001b[38;5;241m.\u001b[39mhist(bins\u001b[38;5;241m=\u001b[39m\u001b[38;5;241m20\u001b[39m)\n",
      "Cell \u001b[1;32mIn[283], line 103\u001b[0m, in \u001b[0;36msimulate_uniform_ate_distribution\u001b[1;34m(n, n_bins, samples_per_bin, bin_range, simulate_kwargs, max_attempts, verbose)\u001b[0m\n\u001b[0;32m    100\u001b[0m total_required \u001b[38;5;241m=\u001b[39m n_bins \u001b[38;5;241m*\u001b[39m samples_per_bin\n\u001b[0;32m    102\u001b[0m \u001b[38;5;28;01mwhile\u001b[39;00m \u001b[38;5;28msum\u001b[39m(bin_counts) \u001b[38;5;241m<\u001b[39m total_required \u001b[38;5;129;01mand\u001b[39;00m attempts \u001b[38;5;241m<\u001b[39m max_attempts:\n\u001b[1;32m--> 103\u001b[0m     sim \u001b[38;5;241m=\u001b[39m \u001b[43msimulate_with_target_ate\u001b[49m\u001b[43m(\u001b[49m\u001b[43mn\u001b[49m\u001b[38;5;241;43m=\u001b[39;49m\u001b[43mn\u001b[49m\u001b[43m,\u001b[49m\u001b[43m \u001b[49m\u001b[43mmin_ate\u001b[49m\u001b[38;5;241;43m=\u001b[39;49m\u001b[43mbin_range\u001b[49m\u001b[43m[\u001b[49m\u001b[38;5;241;43m0\u001b[39;49m\u001b[43m]\u001b[49m\u001b[43m,\u001b[49m\u001b[43m \u001b[49m\u001b[43mmax_ate\u001b[49m\u001b[38;5;241;43m=\u001b[39;49m\u001b[43mbin_range\u001b[49m\u001b[43m[\u001b[49m\u001b[38;5;241;43m1\u001b[39;49m\u001b[43m]\u001b[49m\u001b[43m,\u001b[49m\u001b[43m \u001b[49m\u001b[38;5;241;43m*\u001b[39;49m\u001b[38;5;241;43m*\u001b[39;49m\u001b[43msimulate_kwargs\u001b[49m\u001b[43m)\u001b[49m\n\u001b[0;32m    104\u001b[0m     ate \u001b[38;5;241m=\u001b[39m sim[\u001b[38;5;124m\"\u001b[39m\u001b[38;5;124mATE_true\u001b[39m\u001b[38;5;124m\"\u001b[39m]\n\u001b[0;32m    105\u001b[0m     bin_idx \u001b[38;5;241m=\u001b[39m np\u001b[38;5;241m.\u001b[39mdigitize(ate, bins) \u001b[38;5;241m-\u001b[39m \u001b[38;5;241m1\u001b[39m\n",
      "Cell \u001b[1;32mIn[283], line 46\u001b[0m, in \u001b[0;36msimulate_with_target_ate\u001b[1;34m(n, min_ate, max_ate, max_attempts, coef_ranges, intercept_ranges, noise_std)\u001b[0m\n\u001b[0;32m     44\u001b[0m \u001b[38;5;66;03m# Generate continuous latent confounder\u001b[39;00m\n\u001b[0;32m     45\u001b[0m Z \u001b[38;5;241m=\u001b[39m np\u001b[38;5;241m.\u001b[39mrandom\u001b[38;5;241m.\u001b[39mbinomial(\u001b[38;5;241m1\u001b[39m, \u001b[38;5;241m0.5\u001b[39m, size\u001b[38;5;241m=\u001b[39mn)\n\u001b[1;32m---> 46\u001b[0m U \u001b[38;5;241m=\u001b[39m \u001b[43mnp\u001b[49m\u001b[38;5;241;43m.\u001b[39;49m\u001b[43mrandom\u001b[49m\u001b[38;5;241;43m.\u001b[39;49m\u001b[43mnormal\u001b[49m\u001b[43m(\u001b[49m\u001b[38;5;241;43m0\u001b[39;49m\u001b[43m,\u001b[49m\u001b[43m \u001b[49m\u001b[38;5;241;43m1\u001b[39;49m\u001b[43m,\u001b[49m\u001b[43m \u001b[49m\u001b[43msize\u001b[49m\u001b[38;5;241;43m=\u001b[39;49m\u001b[43mn\u001b[49m\u001b[43m)\u001b[49m\n\u001b[0;32m     48\u001b[0m \u001b[38;5;66;03m# Generate treatment X\u001b[39;00m\n\u001b[0;32m     49\u001b[0m logit_X \u001b[38;5;241m=\u001b[39m intercept_X \u001b[38;5;241m+\u001b[39m b_Z \u001b[38;5;241m*\u001b[39m Z \u001b[38;5;241m+\u001b[39m b_U_X \u001b[38;5;241m*\u001b[39m U\n",
      "\u001b[1;31mKeyboardInterrupt\u001b[0m: "
     ]
    }
   ],
   "source": [
    "def simulate_with_target_ate(\n",
    "    n=5000,\n",
    "    min_ate=0.05,\n",
    "    max_ate=0.95,\n",
    "    max_attempts=1000,\n",
    "    coef_ranges=None,\n",
    "    intercept_ranges=None,\n",
    "    noise_std=0.5\n",
    "):\n",
    "    \"\"\"\n",
    "    Simulates data for binary treatment effect analysis.\n",
    "    Fixes clustering by:\n",
    "    - Using continuous U ~ N(0,1)\n",
    "    - Adding Gaussian noise to logits\n",
    "\n",
    "    Returns dict with true ATE and all coefficients.\n",
    "    \"\"\"\n",
    "    if coef_ranges is None:\n",
    "        coef_ranges = {\n",
    "            'b_Z': (0.0, 3.0),\n",
    "            'b_U_X': (0.0, 3.0),\n",
    "            'b_X_Y': (0.5, 6.0),\n",
    "            'b_U_Y': (0.0, 3.0)\n",
    "        }\n",
    "    if intercept_ranges is None:\n",
    "        intercept_ranges = {\n",
    "            'intercept_X': (-2.0, 2.0),\n",
    "            'intercept_Y': (-4.0, 2.0)\n",
    "        }\n",
    "\n",
    "    for attempt in range(max_attempts):\n",
    "        seed = np.random.randint(0, 1e6)\n",
    "        np.random.seed(seed)\n",
    "\n",
    "        # Coefficients\n",
    "        b_Z = np.random.uniform(*coef_ranges['b_Z'])\n",
    "        b_U_X = np.random.uniform(*coef_ranges['b_U_X'])\n",
    "        b_X_Y = np.random.uniform(*coef_ranges['b_X_Y'])\n",
    "        b_U_Y = np.random.uniform(*coef_ranges['b_U_Y'])\n",
    "\n",
    "        intercept_X = np.random.uniform(*intercept_ranges['intercept_X'])\n",
    "        intercept_Y = np.random.uniform(*intercept_ranges['intercept_Y'])\n",
    "\n",
    "        # Generate continuous latent confounder\n",
    "        Z = np.random.binomial(1, 0.5, size=n)\n",
    "        U = np.random.normal(0, 1, size=n)\n",
    "\n",
    "        # Generate treatment X\n",
    "        logit_X = intercept_X + b_Z * Z + b_U_X * U\n",
    "        p_X = 1 / (1 + np.exp(-logit_X))\n",
    "        X = np.random.binomial(1, p_X)\n",
    "\n",
    "        # Generate outcome Y with noise\n",
    "        logit_Y = intercept_Y + b_X_Y * X + b_U_Y * U + np.random.normal(0, noise_std, size=n)\n",
    "        p_Y = 1 / (1 + np.exp(-logit_Y))\n",
    "        Y = np.random.binomial(1, p_Y)\n",
    "\n",
    "        # Counterfactual outcomes with same noise structure\n",
    "        logit_Y1 = intercept_Y + b_X_Y * 1 + b_U_Y * U + np.random.normal(0, noise_std, size=n)\n",
    "        logit_Y0 = intercept_Y + b_X_Y * 0 + b_U_Y * U + np.random.normal(0, noise_std, size=n)\n",
    "        p_Y1 = 1 / (1 + np.exp(-logit_Y1))\n",
    "        p_Y0 = 1 / (1 + np.exp(-logit_Y0))\n",
    "        ATE_true = np.mean(p_Y1 - p_Y0)\n",
    "\n",
    "        if min_ate <= ATE_true <= max_ate:\n",
    "            return {\n",
    "                'seed': seed,\n",
    "                'b_Z': b_Z,\n",
    "                'b_U_X': b_U_X,\n",
    "                'b_X_Y': b_X_Y,\n",
    "                'b_U_Y': b_U_Y,\n",
    "                'intercept_X': intercept_X,\n",
    "                'intercept_Y': intercept_Y,\n",
    "                'ATE_true': ATE_true,\n",
    "                'Z': Z,\n",
    "                'U': U,\n",
    "                'X': X,\n",
    "                'Y': Y\n",
    "            }\n",
    "\n",
    "    raise ValueError(f\"Failed to generate ATE in range [{min_ate}, {max_ate}] after {max_attempts} attempts\")\n",
    "\n",
    "def simulate_uniform_ate_distribution(\n",
    "    n=5000,\n",
    "    n_bins=10,\n",
    "    samples_per_bin=50,\n",
    "    bin_range=(0.05, 0.95),\n",
    "    simulate_kwargs=None,\n",
    "    max_attempts=30000,\n",
    "    verbose=True\n",
    "):\n",
    "    if simulate_kwargs is None:\n",
    "        simulate_kwargs = {}\n",
    "\n",
    "    bins = np.linspace(*bin_range, n_bins + 1)\n",
    "    bin_counts = np.zeros(n_bins, dtype=int)\n",
    "    data = []\n",
    "\n",
    "    attempts = 0\n",
    "    total_required = n_bins * samples_per_bin\n",
    "\n",
    "    while sum(bin_counts) < total_required and attempts < max_attempts:\n",
    "        sim = simulate_with_target_ate(n=n, min_ate=bin_range[0], max_ate=bin_range[1], **simulate_kwargs)\n",
    "        ate = sim[\"ATE_true\"]\n",
    "        bin_idx = np.digitize(ate, bins) - 1\n",
    "\n",
    "        if 0 <= bin_idx < n_bins and bin_counts[bin_idx] < samples_per_bin:\n",
    "            bin_counts[bin_idx] += 1\n",
    "            data.append(sim)\n",
    "\n",
    "        attempts += 1\n",
    "\n",
    "    if attempts >= max_attempts and sum(bin_counts) < total_required:\n",
    "        print(f\"⚠️ Warning: Only filled {sum(bin_counts)} / {total_required} samples after {attempts} attempts.\")\n",
    "        if verbose:\n",
    "            for i in range(n_bins):\n",
    "                print(f\"  Bin {i} ({bins[i]:.2f}-{bins[i+1]:.2f}): {bin_counts[i]} samples\")\n",
    "\n",
    "    return data\n",
    "\n",
    "\n",
    "\n",
    "\n",
    "sim_data = simulate_uniform_ate_distribution(\n",
    "    n=5000,\n",
    "    n_bins=5,\n",
    "    samples_per_bin=50,\n",
    "    simulate_kwargs={'noise_std': 1.0},  # more variation!\n",
    "    verbose=True\n",
    ")\n",
    "\n",
    "df_uniform = pd.DataFrame(sim_data)\n",
    "df_uniform.ATE_true.hist(bins=20)\n"
   ]
  },
  {
   "cell_type": "code",
   "execution_count": null,
   "id": "4804594d",
   "metadata": {},
   "outputs": [],
   "source": [
    "results = []\n",
    "\n",
    "n = 50000\n",
    "graph_str = \"(Z -+ X, X -+ Y, Ur -+ X, Ur -+ Y)\"\n",
    "leftside = [1, 0, 0, 0]\n",
    "latent   = [0, 0, 0, 1]\n",
    "nvals    = [2, 2, 2, 2]\n",
    "rlconnect = [0, 0, 0, 0]\n",
    "monotone = [0, 0, 0, 0]\n",
    "\n",
    "for i in range(500):\n",
    "    # Simulate data with diverse ATEs\n",
    "    sim = simulate_with_target_ate(n=n, min_ate=0.05, max_ate=0.95)\n",
    "\n",
    "    # Create dataframe and get probabilities\n",
    "    df = pd.DataFrame({'Y': sim['Y'], 'X': sim['X'], 'Z': sim['Z']})\n",
    "    prob_dict = extract_prob_dict(df)\n",
    "\n",
    "    # Run causaloptim\n",
    "    r_bounds = run_experiment(\n",
    "        graph_str, leftside, latent, nvals, rlconnect, monotone, prob_dict\n",
    "    )\n",
    "    bound_lower = float(r_bounds[0][0])\n",
    "    bound_upper = float(r_bounds[1][0])\n",
    "\n",
    "    # Save result\n",
    "    results.append({\n",
    "        'seed': sim['seed'],\n",
    "        'b_Z': sim['b_Z'],\n",
    "        'b_U_X': sim['b_U_X'],\n",
    "        'b_X_Y': sim['b_X_Y'],\n",
    "        'b_U_Y': sim['b_U_Y'],\n",
    "        'ATE_true': sim['ATE_true'],\n",
    "        'bound_lower': bound_lower,\n",
    "        'bound_upper': bound_upper\n",
    "    })\n",
    "df_results = pd.DataFrame(results)\n"
   ]
  },
  {
   "cell_type": "markdown",
   "id": "d71e4e21",
   "metadata": {},
   "source": [
    "#### Iteration testing area"
   ]
  },
  {
   "cell_type": "code",
   "execution_count": null,
   "id": "465ac0c5",
   "metadata": {},
   "outputs": [
    {
     "name": "stdout",
     "output_type": "stream",
     "text": [
      "Seed: 859458\n",
      "Seed: 457279\n",
      "Seed: 724588\n",
      "Seed: 193886\n",
      "Seed: 423724\n",
      "Seed: 514108\n",
      "Seed: 820417\n"
     ]
    },
    {
     "name": "stderr",
     "output_type": "stream",
     "text": [
      "R[write to console]: In addition: \n",
      "R[write to console]: Warning message:\n",
      "\n",
      "R[write to console]: In boundsfunc(p00_0 = p00_0, p00_1 = p00_1, p10_0 = p10_0, p10_1 = p10_1,  :\n",
      "R[write to console]: \n",
      " \n",
      "R[write to console]:  Invalid bounds! Data probably does not satisfy the assumptions in the DAG!\n",
      "\n"
     ]
    },
    {
     "name": "stdout",
     "output_type": "stream",
     "text": [
      "Seed: 697714\n",
      "Seed: 945391\n"
     ]
    },
    {
     "name": "stderr",
     "output_type": "stream",
     "text": [
      "R[write to console]: In addition: \n",
      "R[write to console]: Warning message:\n",
      "\n",
      "R[write to console]: In boundsfunc(p00_0 = p00_0, p00_1 = p00_1, p10_0 = p10_0, p10_1 = p10_1,  :\n",
      "R[write to console]: \n",
      " \n",
      "R[write to console]:  Invalid bounds! Data probably does not satisfy the assumptions in the DAG!\n",
      "\n"
     ]
    },
    {
     "name": "stdout",
     "output_type": "stream",
     "text": [
      "Seed: 358782\n",
      "Seed: 157438\n",
      "Seed: 250714\n",
      "Seed: 467114\n",
      "Seed: 345673\n",
      "Seed: 784648\n"
     ]
    },
    {
     "name": "stderr",
     "output_type": "stream",
     "text": [
      "R[write to console]: In addition: \n",
      "R[write to console]: Warning message:\n",
      "\n",
      "R[write to console]: In boundsfunc(p00_0 = p00_0, p00_1 = p00_1, p10_0 = p10_0, p10_1 = p10_1,  :\n",
      "R[write to console]: \n",
      " \n",
      "R[write to console]:  Invalid bounds! Data probably does not satisfy the assumptions in the DAG!\n",
      "\n"
     ]
    },
    {
     "name": "stdout",
     "output_type": "stream",
     "text": [
      "Seed: 146140\n",
      "Seed: 192086\n"
     ]
    },
    {
     "name": "stderr",
     "output_type": "stream",
     "text": [
      "R[write to console]: In addition: \n",
      "R[write to console]: Warning message:\n",
      "\n",
      "R[write to console]: In boundsfunc(p00_0 = p00_0, p00_1 = p00_1, p10_0 = p10_0, p10_1 = p10_1,  :\n",
      "R[write to console]: \n",
      " \n",
      "R[write to console]:  Invalid bounds! Data probably does not satisfy the assumptions in the DAG!\n",
      "\n"
     ]
    },
    {
     "name": "stdout",
     "output_type": "stream",
     "text": [
      "Seed: 15676\n"
     ]
    },
    {
     "name": "stderr",
     "output_type": "stream",
     "text": [
      "R[write to console]: In addition: \n",
      "R[write to console]: Warning message:\n",
      "\n",
      "R[write to console]: In boundsfunc(p00_0 = p00_0, p00_1 = p00_1, p10_0 = p10_0, p10_1 = p10_1,  :\n",
      "R[write to console]: \n",
      " \n",
      "R[write to console]:  Invalid bounds! Data probably does not satisfy the assumptions in the DAG!\n",
      "\n"
     ]
    },
    {
     "name": "stdout",
     "output_type": "stream",
     "text": [
      "Seed: 704217\n",
      "Seed: 150612\n",
      "Seed: 304267\n"
     ]
    },
    {
     "name": "stderr",
     "output_type": "stream",
     "text": [
      "R[write to console]: In addition: \n",
      "R[write to console]: Warning message:\n",
      "\n",
      "R[write to console]: In boundsfunc(p00_0 = p00_0, p00_1 = p00_1, p10_0 = p10_0, p10_1 = p10_1,  :\n",
      "R[write to console]: \n",
      " \n",
      "R[write to console]:  Invalid bounds! Data probably does not satisfy the assumptions in the DAG!\n",
      "\n"
     ]
    },
    {
     "name": "stdout",
     "output_type": "stream",
     "text": [
      "Seed: 665400\n",
      "Seed: 162096\n",
      "Seed: 290340\n",
      "Seed: 359216\n",
      "Seed: 314178\n",
      "Seed: 513938\n"
     ]
    },
    {
     "name": "stderr",
     "output_type": "stream",
     "text": [
      "R[write to console]: In addition: \n",
      "R[write to console]: Warning message:\n",
      "\n",
      "R[write to console]: In boundsfunc(p00_0 = p00_0, p00_1 = p00_1, p10_0 = p10_0, p10_1 = p10_1,  :\n",
      "R[write to console]: \n",
      " \n",
      "R[write to console]:  Invalid bounds! Data probably does not satisfy the assumptions in the DAG!\n",
      "\n"
     ]
    },
    {
     "name": "stdout",
     "output_type": "stream",
     "text": [
      "Seed: 344859\n"
     ]
    },
    {
     "name": "stderr",
     "output_type": "stream",
     "text": [
      "R[write to console]: In addition: \n",
      "R[write to console]: Warning message:\n",
      "\n",
      "R[write to console]: In boundsfunc(p00_0 = p00_0, p00_1 = p00_1, p10_0 = p10_0, p10_1 = p10_1,  :\n",
      "R[write to console]: \n",
      " \n",
      "R[write to console]:  Invalid bounds! Data probably does not satisfy the assumptions in the DAG!\n",
      "\n"
     ]
    },
    {
     "name": "stdout",
     "output_type": "stream",
     "text": [
      "Seed: 601400\n",
      "Seed: 935776\n",
      "Seed: 350566\n",
      "Seed: 376737\n",
      "Seed: 689847\n"
     ]
    },
    {
     "name": "stderr",
     "output_type": "stream",
     "text": [
      "Exception ignored from cffi callback <function _callback at 0x00000213A1CA6C00>:\n",
      "Traceback (most recent call last):\n",
      "  File \"C:\\Users\\tmari\\AppData\\Roaming\\Python\\Python312\\site-packages\\rpy2\\rinterface_lib\\callbacks.py\", line 336, in _callback\n",
      "    @ffi_proxy.callback(ffi_proxy._callback_def,\n",
      "    \n",
      "KeyboardInterrupt: \n"
     ]
    },
    {
     "name": "stdout",
     "output_type": "stream",
     "text": [
      "Seed: 719103\n",
      "Seed: 173872\n",
      "Seed: 925160\n"
     ]
    },
    {
     "name": "stderr",
     "output_type": "stream",
     "text": [
      "R[write to console]: In addition: \n",
      "R[write to console]: Warning message:\n",
      "\n",
      "R[write to console]: In boundsfunc(p00_0 = p00_0, p00_1 = p00_1, p10_0 = p10_0, p10_1 = p10_1,  :\n",
      "R[write to console]: \n",
      " \n",
      "R[write to console]:  Invalid bounds! Data probably does not satisfy the assumptions in the DAG!\n",
      "\n"
     ]
    },
    {
     "name": "stdout",
     "output_type": "stream",
     "text": [
      "Seed: 394208\n",
      "Seed: 295166\n",
      "Seed: 775387\n",
      "Seed: 258975\n",
      "Seed: 493654\n",
      "Seed: 676831\n",
      "Seed: 848655\n",
      "Seed: 99501\n",
      "Seed: 782374\n",
      "Seed: 344895\n",
      "Seed: 315600\n",
      "Seed: 574613\n",
      "Seed: 231824\n",
      "Seed: 231953\n",
      "Seed: 725256\n",
      "Seed: 220173\n",
      "Seed: 825143\n",
      "Seed: 954812\n",
      "Seed: 416469\n",
      "Seed: 5876\n",
      "Seed: 557643\n",
      "Seed: 436932\n"
     ]
    }
   ],
   "source": [
    "def simulate_deterministic_data_with_probabilistic_ate(\n",
    "    n=5000,\n",
    "    seed=None,\n",
    "    intercept_X=-1.0,\n",
    "    intercept_Y=-0.5,\n",
    "    b_Z=1.5,\n",
    "    b_U_X=1.2,\n",
    "    b_X_Y=1.0,\n",
    "    b_U_Y=1.5\n",
    "):\n",
    "    \"\"\"\n",
    "    Simulate deterministic (binary) data for causaloptim,\n",
    "    but compute ATE from smooth logistic potential outcome probabilities.\n",
    "    \n",
    "    Returns:\n",
    "        sim (dict): contains seed, coefficients, ATE_true, and arrays Z, U, X, Y\n",
    "    \"\"\"\n",
    "    if seed is None:\n",
    "        seed = np.random.randint(0, 1e6)\n",
    "    np.random.seed(seed)\n",
    "    # print(f\"Seed: {seed}\")\n",
    "\n",
    "    # Binary variables\n",
    "    Z = np.random.binomial(1, 0.5, size=n)\n",
    "    U = np.random.binomial(1, 0.5, size=n)\n",
    "\n",
    "    # Treatment assignment\n",
    "    logit_X = intercept_X + b_Z * Z + b_U_X * U\n",
    "    p_X = 1 / (1 + np.exp(-logit_X))\n",
    "    X = np.random.binomial(1, p_X)\n",
    "\n",
    "    # Deterministic outcome\n",
    "    logit_Y = intercept_Y + b_X_Y * X + b_U_Y * U\n",
    "    Y = (logit_Y > 0).astype(int)\n",
    "\n",
    "    # Probabilistic potential outcomes\n",
    "    logit_Y1 = intercept_Y + b_X_Y * 1 + b_U_Y * U\n",
    "    logit_Y0 = intercept_Y + b_X_Y * 0 + b_U_Y * U\n",
    "    p_Y1 = 1 / (1 + np.exp(-logit_Y1))\n",
    "    p_Y0 = 1 / (1 + np.exp(-logit_Y0))\n",
    "    ATE_true = np.mean(p_Y1 - p_Y0)\n",
    "\n",
    "    return {\n",
    "        'seed': seed,\n",
    "        'intercept_X': intercept_X,\n",
    "        'intercept_Y': intercept_Y,\n",
    "        'b_Z': b_Z,\n",
    "        'b_U_X': b_U_X,\n",
    "        'b_X_Y': b_X_Y,\n",
    "        'b_U_Y': b_U_Y,\n",
    "        'ATE_true': ATE_true,\n",
    "        'Z': Z,\n",
    "        'U': U,\n",
    "        'X': X,\n",
    "        'Y': Y\n",
    "    }\n",
    "results = []\n",
    "for i in range(100):\n",
    "    sim = simulate_deterministic_data_with_probabilistic_ate(\n",
    "        b_X_Y= i / 10,  # test impact\n",
    "        intercept_Y= -5,\n",
    "    )\n",
    "\n",
    "    # DataFrame for causaloptim\n",
    "    df = pd.DataFrame({'Y': sim['Y'], 'X': sim['X'], 'Z': sim['Z']})\n",
    "    prob_dict = extract_prob_dict(df)\n",
    "\n",
    "    # Define Model\n",
    "    graph_str = \"(Z -+ X, X -+ Y, Ur -+ X, Ur -+ Y)\"\n",
    "    leftside = [1, 0, 0, 0]\n",
    "    latent   = [0, 0, 0, 1]\n",
    "    nvals    = [2, 2, 2, 2]\n",
    "    rlconnect = [0, 0, 0, 0]\n",
    "    monotone = [0, 0, 0, 0]\n",
    "\n",
    "\n",
    "    # Compute bounds\n",
    "    bounds = run_experiment(\n",
    "        graph_str, leftside, latent, nvals, rlconnect, monotone, prob_dict\n",
    "    )\n",
    "    bound_lower = float(bounds[0][0])\n",
    "    bound_upper = float(bounds[1][0])\n",
    "\n",
    "    bounds_valid = bound_lower <= sim['ATE_true'] <= bound_upper\n",
    "    result = {\n",
    "        'seed': sim['seed'],\n",
    "        'b_Z': sim['b_Z'],\n",
    "        'b_U_X': sim['b_U_X'],\n",
    "        'b_X_Y': sim['b_X_Y'],\n",
    "        'b_U_Y': sim['b_U_Y'],\n",
    "        'ATE_true': sim['ATE_true'],\n",
    "        'bound_lower': bound_lower,\n",
    "        'bound_upper': bound_upper,\n",
    "        'bounds_valid': bounds_valid\n",
    "    }\n",
    "    results.append(result)\n",
    "\n",
    "df_results = pd.DataFrame(results)\n",
    "## Plot ATE_true vs bounds\n",
    "plt.figure(figsize=(10, 6))\n",
    "sns.scatterplot(data=df_results, x='ATE_true', y='bound_lower', label='Lower Bound', alpha=0.6)\n",
    "sns.scatterplot(data=df_results, x='ATE_true', y='bound_upper', label='Upper Bound', alpha=0.6)\n",
    "plt.axhline(0, color='gray', linestyle='--', lw=1)\n",
    "plt.axvline(0, color='gray', linestyle='--', lw=1)\n",
    "plt.xlabel('True ATE')\n",
    "plt.ylabel('Bounds')\n",
    "plt.title('True ATE vs Bounds')\n",
    "plt.legend()\n",
    "\n",
    "\n"
   ]
  },
  {
   "cell_type": "code",
   "execution_count": 6,
   "id": "6d3679ee",
   "metadata": {},
   "outputs": [],
   "source": [
    "def diagnose_simulation_seed(seed, n=5000, **kwargs):\n",
    "    print(f\"\\n🔍 Diagnosing simulation with seed = {seed}\")\n",
    "    sim = simulate_deterministic_data_with_probabilistic_ate(n=n, seed=seed, **kwargs)\n",
    "    df = pd.DataFrame({'Z': sim['Z'], 'U': sim['U'], 'X': sim['X'], 'Y': sim['Y']})\n",
    "\n",
    "    # Compute distributions\n",
    "    px_z = df.groupby(\"Z\")[\"X\"].mean()\n",
    "    py_z = df.groupby(\"Z\")[\"Y\"].mean()\n",
    "    py_x = df.groupby(\"X\")[\"Y\"].mean()\n",
    "\n",
    "    print(\"\\n📊 Empirical means:\")\n",
    "    print(f\"P(X=1 | Z=0): {px_z[0]:.3f}   P(X=1 | Z=1): {px_z[1]:.3f}\")\n",
    "    print(f\"P(Y=1 | Z=0): {py_z[0]:.3f}   P(Y=1 | Z=1): {py_z[1]:.3f}\")\n",
    "    print(f\"P(Y=1 | X=0): {py_x[0]:.3f}   P(Y=1 | X=1): {py_x[1]:.3f}\")\n",
    "\n",
    "    print(\"\\n🧮 ATE_true:\", round(sim['ATE_true'], 4))\n",
    "    print(\"\\n📐 Coefficients:\")\n",
    "    for key in ['b_Z', 'b_U_X', 'b_X_Y', 'b_U_Y', 'intercept_X', 'intercept_Y']:\n",
    "        print(f\"  {key}: {sim[key]:.4f}\")\n",
    "\n",
    "    # Visual plots\n",
    "    fig, axs = plt.subplots(1, 3, figsize=(15, 4))\n",
    "\n",
    "    sns.barplot(x=px_z.index, y=px_z.values, ax=axs[0])\n",
    "    axs[0].set_title(\"P(X=1 | Z)\")\n",
    "    axs[0].set_ylim(0, 1)\n",
    "\n",
    "    sns.barplot(x=py_z.index, y=py_z.values, ax=axs[1])\n",
    "    axs[1].set_title(\"P(Y=1 | Z)\")\n",
    "    axs[1].set_ylim(0, 1)\n",
    "\n",
    "    sns.barplot(x=py_x.index, y=py_x.values, ax=axs[2])\n",
    "    axs[2].set_title(\"P(Y=1 | X)\")\n",
    "    axs[2].set_ylim(0, 1)\n",
    "\n",
    "    plt.suptitle(f\"Diagnostic Summary for Seed {seed}\", fontsize=14)\n",
    "    plt.tight_layout()\n",
    "    plt.show()\n",
    "\n",
    "    return sim, df"
   ]
  },
  {
   "cell_type": "code",
   "execution_count": null,
   "id": "f375754e",
   "metadata": {},
   "outputs": [
    {
     "name": "stdout",
     "output_type": "stream",
     "text": [
      "\n",
      "🔍 Diagnosing simulation with seed = 315623\n",
      "Seed: 315623\n",
      "\n",
      "📊 Empirical means:\n",
      "P(X=1 | Z=0): 0.410   P(X=1 | Z=1): 0.761\n",
      "P(Y=1 | Z=0): 0.643   P(Y=1 | Z=1): 0.824\n",
      "P(Y=1 | X=0): 0.359   P(Y=1 | X=1): 1.000\n",
      "\n",
      "🧮 ATE_true: 0.1976\n",
      "\n",
      "📐 Coefficients:\n",
      "  b_Z: 1.5000\n",
      "  b_U_X: 1.2000\n",
      "  b_X_Y: 1.0000\n",
      "  b_U_Y: 1.5000\n",
      "  intercept_X: -1.0000\n",
      "  intercept_Y: -0.5000\n"
     ]
    },
    {
     "data": {
      "image/png": "[encoded data removed]",
      "text/plain": [
       "<Figure size 1500x400 with 3 Axes>"
      ]
     },
     "metadata": {},
     "output_type": "display_data"
    }
   ],
   "source": [
    "sim, df = diagnose_simulation_seed(seed=930512) #out of bounds: 930512\n"
   ]
  }
 ],
 "metadata": {
  "kernelspec": {
   "display_name": "Python 3",
   "language": "python",
   "name": "python3"
  },
  "language_info": {
   "codemirror_mode": {
    "name": "ipython",
    "version": 3
   },
   "file_extension": ".py",
   "mimetype": "text/x-python",
   "name": "python",
   "nbconvert_exporter": "python",
   "pygments_lexer": "ipython3",
   "version": "3.12.6"
  }
 },
 "nbformat": 4,
 "nbformat_minor": 5
}
