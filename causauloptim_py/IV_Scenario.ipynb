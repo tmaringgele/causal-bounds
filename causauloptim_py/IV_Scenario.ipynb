{
 "cells": [
  {
   "cell_type": "code",
   "execution_count": 2,
   "id": "4c504e5b",
   "metadata": {},
   "outputs": [],
   "source": [
    "# user defined R installation\n",
    "import os\n",
    "os.environ['R_HOME'] = 'D:/Program Files/R-4.5.0' #path to your R installation\n",
    "\n",
    "import numpy as np\n",
    "import pandas as pd\n",
    "import rpy2.robjects as robjects\n",
    "from rpy2.robjects import globalenv\n",
    "from rpy2.robjects.packages import importr\n",
    "from rpy2.robjects.vectors import FloatVector\n",
    "\n",
    "# Load R packages\n",
    "#igraph = importr('igraph')\n",
    "causaloptim = importr('causaloptim')\n",
    "base = importr('base')"
   ]
  },
  {
   "cell_type": "markdown",
   "id": "828535c2",
   "metadata": {},
   "source": [
    "#### Data Generation"
   ]
  },
  {
   "cell_type": "code",
   "execution_count": 7,
   "id": "0808ca22",
   "metadata": {},
   "outputs": [
    {
     "name": "stdout",
     "output_type": "stream",
     "text": [
      "True ATE: 0.19877531935424195\n"
     ]
    }
   ],
   "source": [
    "# Set seed and generate synthetic data in Python\n",
    "np.random.seed(42)\n",
    "n = 5000\n",
    "Z = np.random.binomial(1, 0.5, size=n)\n",
    "U = np.random.binomial(1, 0.5, size=n)\n",
    "\n",
    "# X ~ Z + U\n",
    "logit_X = -1 + 1.5 * Z + 1.2 * U\n",
    "p_X = 1 / (1 + np.exp(-logit_X))\n",
    "X = np.random.binomial(1, p_X)\n",
    "\n",
    "# Y ~ X + U\n",
    "beta_X, beta_U = 1.0, 1.5\n",
    "logit_Y = -0.5 + beta_X * X + beta_U * U\n",
    "p_Y = 1 / (1 + np.exp(-logit_Y))\n",
    "Y = np.random.binomial(1, p_Y)\n",
    "\n",
    "# Ground truth ATE\n",
    "logit_Y1 = -0.5 + beta_X * 1 + beta_U * U\n",
    "logit_Y0 = -0.5 + beta_X * 0 + beta_U * U\n",
    "p_Y1 = 1 / (1 + np.exp(-logit_Y1))\n",
    "p_Y0 = 1 / (1 + np.exp(-logit_Y0))\n",
    "ATE_true = np.mean(p_Y1 - p_Y0)\n",
    "print(\"True ATE:\", ATE_true)\n"
   ]
  },
  {
   "cell_type": "markdown",
   "id": "0893491a",
   "metadata": {},
   "source": [
    "#### causaloptim"
   ]
  },
  {
   "cell_type": "code",
   "execution_count": 13,
   "id": "550c5ea4",
   "metadata": {},
   "outputs": [],
   "source": [
    "# Create DataFrame\n",
    "df = pd.DataFrame({'Y': Y, 'X': X, 'Z': Z})\n",
    "\n",
    "# Compute P(Y, X | Z) safely\n",
    "joint_counts = df.groupby(['Y', 'X', 'Z']).size().reset_index(name='count')\n",
    "z_counts = df['Z'].value_counts().to_dict()\n",
    "joint_counts['p_yx_z'] = joint_counts.apply(\n",
    "    lambda row: row['count'] / z_counts[row['Z']], axis=1\n",
    ")\n",
    "marg_dict = {\n",
    "    (int(row.Y), int(row.X), int(row.Z)): row.p_yx_z\n",
    "    for _, row in joint_counts.iterrows()\n",
    "}\n",
    "\n",
    "# Helper to fetch probabilities with default fallback\n",
    "def get_prob(y, x, z):\n",
    "    return marg_dict.get((y, x, z), 0.0)\n",
    "\n",
    "# Assign to R using rpy2-compatible scalar format\n",
    "globalenv[\"p00_0\"] = FloatVector([get_prob(0, 0, 0)])\n",
    "globalenv[\"p10_0\"] = FloatVector([get_prob(1, 0, 0)])\n",
    "globalenv[\"p01_0\"] = FloatVector([get_prob(0, 1, 0)])\n",
    "globalenv[\"p11_0\"] = FloatVector([get_prob(1, 1, 0)])\n",
    "globalenv[\"p00_1\"] = FloatVector([get_prob(0, 0, 1)])\n",
    "globalenv[\"p10_1\"] = FloatVector([get_prob(1, 0, 1)])\n",
    "globalenv[\"p01_1\"] = FloatVector([get_prob(0, 1, 1)])\n",
    "globalenv[\"p11_1\"] = FloatVector([get_prob(1, 1, 1)])"
   ]
  },
  {
   "cell_type": "code",
   "execution_count": 14,
   "id": "176e4013",
   "metadata": {},
   "outputs": [
    {
     "name": "stdout",
     "output_type": "stream",
     "text": [
      "Bounds from causaloptim: [<rpy2.robjects.vectors.FloatVector object at 0x00000138C7580D50> [14]\n",
      "R classes: ('numeric',)\n",
      "[-0.159200], <rpy2.robjects.vectors.FloatVector object at 0x00000138C7582FD0> [14]\n",
      "R classes: ('numeric',)\n",
      "[0.519600]]\n"
     ]
    }
   ],
   "source": [
    "# R code for causal graph and bounds\n",
    "r_code = \"\"\"\n",
    "library(causaloptim)\n",
    "library(igraph)\n",
    "\n",
    "# Define the DAG\n",
    "graph <- graph_from_literal(Z -+ X, X -+ Y, Ur -+ X, Ur -+ Y)\n",
    "V(graph)$leftside <- c(1, 0, 0, 0)\n",
    "V(graph)$latent   <- c(0, 0, 0, 1)\n",
    "V(graph)$nvals    <- c(2, 2, 2, 2)\n",
    "E(graph)$rlconnect     <- c(0, 0, 0, 0)\n",
    "E(graph)$edge.monotone <- c(0, 0, 0, 0)\n",
    "\n",
    "# Analyze causal effect\n",
    "riskdiff <- \"p{Y(X = 1) = 1} - p{Y(X = 0) = 1}\"\n",
    "obj <- analyze_graph(graph, constraints = NULL, effectt = riskdiff)\n",
    "bounds <- optimize_effect_2(obj)\n",
    "boundsfunc <- interpret_bounds(bounds = bounds$bounds, obj$parameters)\n",
    "\n",
    "# Evaluate bounds\n",
    "ATE_bounds <- boundsfunc(\n",
    "  p00_0 = p00_0, p00_1 = p00_1,\n",
    "  p10_0 = p10_0, p10_1 = p10_1,\n",
    "  p01_0 = p01_0, p01_1 = p01_1,\n",
    "  p11_0 = p11_0, p11_1 = p11_1\n",
    ")\n",
    "\n",
    "ATE_bounds\n",
    "\"\"\"\n",
    "\n",
    "# Run R code and extract bounds\n",
    "robjects.r(r_code)\n",
    "ATE_bounds = robjects.r('ATE_bounds')\n",
    "print(\"Bounds from causaloptim:\", list(ATE_bounds))"
   ]
  }
 ],
 "metadata": {
  "kernelspec": {
   "display_name": "Python 3",
   "language": "python",
   "name": "python3"
  },
  "language_info": {
   "codemirror_mode": {
    "name": "ipython",
    "version": 3
   },
   "file_extension": ".py",
   "mimetype": "text/x-python",
   "name": "python",
   "nbconvert_exporter": "python",
   "pygments_lexer": "ipython3",
   "version": "3.12.6"
  }
 },
 "nbformat": 4,
 "nbformat_minor": 5
}
