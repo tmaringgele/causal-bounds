{
 "cells": [
  {
   "cell_type": "code",
   "execution_count": 19,
   "id": "4c504e5b",
   "metadata": {},
   "outputs": [
    {
     "name": "stdout",
     "output_type": "stream",
     "text": [
      "The autoreload extension is already loaded. To reload it, use:\n",
      "  %reload_ext autoreload\n"
     ]
    }
   ],
   "source": [
    "# user defined R installation\n",
    "import os\n",
    "os.environ['R_HOME'] = 'D:/Program Files/R-4.5.0' #path to your R installation\n",
    "%load_ext autoreload\n",
    "%autoreload 2\n",
    "\n",
    "import numpy as np\n",
    "import pandas as pd\n",
    "import rpy2.robjects as robjects\n",
    "from rpy2.robjects import globalenv\n",
    "from rpy2.robjects.packages import importr\n",
    "from rpy2.robjects.vectors import FloatVector\n",
    "\n",
    "from causaloptim_python import run_experiment, extract_prob_dict\n",
    "\n",
    "\n",
    "\n",
    "# Load R packages\n",
    "#igraph = importr('igraph')\n",
    "causaloptim = importr('causaloptim')\n",
    "base = importr('base')"
   ]
  },
  {
   "cell_type": "markdown",
   "id": "828535c2",
   "metadata": {},
   "source": [
    "#### Data Generation"
   ]
  },
  {
   "cell_type": "code",
   "execution_count": 20,
   "id": "0808ca22",
   "metadata": {},
   "outputs": [
    {
     "name": "stdout",
     "output_type": "stream",
     "text": [
      "True ATE: 0.19877531935424195\n"
     ]
    }
   ],
   "source": [
    "# Set seed and generate synthetic data in Python\n",
    "np.random.seed(42)\n",
    "n = 5000\n",
    "Z = np.random.binomial(1, 0.5, size=n)\n",
    "U = np.random.binomial(1, 0.5, size=n)\n",
    "\n",
    "# X ~ Z + U\n",
    "logit_X = -1 + 1.5 * Z + 1.2 * U\n",
    "p_X = 1 / (1 + np.exp(-logit_X))\n",
    "X = np.random.binomial(1, p_X)\n",
    "\n",
    "# Y ~ X + U\n",
    "beta_X, beta_U = 1.0, 1.5\n",
    "logit_Y = -0.5 + beta_X * X + beta_U * U\n",
    "p_Y = 1 / (1 + np.exp(-logit_Y))\n",
    "Y = np.random.binomial(1, p_Y)\n",
    "\n",
    "df = pd.DataFrame({'Y': Y, 'X': X, 'Z': Z})\n",
    "\n",
    "# Ground truth ATE\n",
    "logit_Y1 = -0.5 + beta_X * 1 + beta_U * U\n",
    "logit_Y0 = -0.5 + beta_X * 0 + beta_U * U\n",
    "p_Y1 = 1 / (1 + np.exp(-logit_Y1))\n",
    "p_Y0 = 1 / (1 + np.exp(-logit_Y0))\n",
    "ATE_true = np.mean(p_Y1 - p_Y0)\n",
    "print(\"True ATE:\", ATE_true)\n"
   ]
  },
  {
   "cell_type": "markdown",
   "id": "0893491a",
   "metadata": {},
   "source": [
    "#### causaloptim"
   ]
  },
  {
   "cell_type": "code",
   "execution_count": 22,
   "id": "f273d121",
   "metadata": {},
   "outputs": [
    {
     "name": "stdout",
     "output_type": "stream",
     "text": [
      "Bounds: (<rpy2.robjects.vectors.FloatVector object at 0x000001762E5585D0> [14]\n",
      "R classes: ('numeric',)\n",
      "[-0.159200], <rpy2.robjects.vectors.FloatVector object at 0x000001762E559010> [14]\n",
      "R classes: ('numeric',)\n",
      "[0.519600])\n"
     ]
    }
   ],
   "source": [
    "\n",
    "\n",
    "graph_str = \"(Z -+ X, X -+ Y, Ur -+ X, Ur -+ Y)\"\n",
    "leftside = [1, 0, 0, 0]\n",
    "latent   = [0, 0, 0, 1]\n",
    "nvals    = [2, 2, 2, 2]\n",
    "rlconnect = [0, 0, 0, 0]\n",
    "monotone = [0, 0, 0, 0]\n",
    "\n",
    "prob_dict = extract_prob_dict(df)\n",
    "\n",
    "\n",
    "bounds = run_experiment(graph_str, leftside, latent, nvals, rlconnect, monotone, prob_dict)\n",
    "print(\"Bounds:\", bounds)"
   ]
  }
 ],
 "metadata": {
  "kernelspec": {
   "display_name": "Python 3",
   "language": "python",
   "name": "python3"
  },
  "language_info": {
   "codemirror_mode": {
    "name": "ipython",
    "version": 3
   },
   "file_extension": ".py",
   "mimetype": "text/x-python",
   "name": "python",
   "nbconvert_exporter": "python",
   "pygments_lexer": "ipython3",
   "version": "3.12.6"
  }
 },
 "nbformat": 4,
 "nbformat_minor": 5
}
