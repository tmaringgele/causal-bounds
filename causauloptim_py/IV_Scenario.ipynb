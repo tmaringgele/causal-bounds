{
 "cells": [
  {
   "cell_type": "code",
   "execution_count": 19,
   "id": "4c504e5b",
   "metadata": {},
   "outputs": [
    {
     "name": "stdout",
     "output_type": "stream",
     "text": [
      "The autoreload extension is already loaded. To reload it, use:\n",
      "  %reload_ext autoreload\n"
     ]
    }
   ],
   "source": [
    "# user defined R installation\n",
    "import os\n",
    "os.environ['R_HOME'] = 'D:/Program Files/R-4.5.0' #path to your R installation\n",
    "%load_ext autoreload\n",
    "%autoreload 2\n",
    "\n",
    "import numpy as np\n",
    "import pandas as pd\n",
    "import rpy2.robjects as robjects\n",
    "from rpy2.robjects import globalenv\n",
    "from rpy2.robjects.packages import importr\n",
    "from rpy2.robjects.vectors import FloatVector\n",
    "\n",
    "from causaloptim_python import run_experiment, extract_prob_dict\n",
    "\n",
    "\n",
    "\n",
    "# Load R packages\n",
    "#igraph = importr('igraph')\n",
    "causaloptim = importr('causaloptim')\n",
    "base = importr('base')"
   ]
  },
  {
   "cell_type": "markdown",
   "id": "828535c2",
   "metadata": {},
   "source": [
    "#### Data Generation"
   ]
  },
  {
   "cell_type": "code",
   "execution_count": null,
   "id": "0808ca22",
   "metadata": {},
   "outputs": [
    {
     "name": "stdout",
     "output_type": "stream",
     "text": [
      "True ATE: 0.19831845457157393\n"
     ]
    }
   ],
   "source": []
  },
  {
   "cell_type": "markdown",
   "id": "0893491a",
   "metadata": {},
   "source": [
    "#### causaloptim"
   ]
  },
  {
   "cell_type": "code",
   "execution_count": 59,
   "id": "f273d121",
   "metadata": {},
   "outputs": [
    {
     "name": "stdout",
     "output_type": "stream",
     "text": [
      "True ATE: 0.19725243674534862\n",
      "Bounds: (<rpy2.robjects.vectors.FloatVector object at 0x000001762E758510> [14]\n",
      "R classes: ('numeric',)\n",
      "[-0.117957], <rpy2.robjects.vectors.FloatVector object at 0x000001762E727B10> [14]\n",
      "R classes: ('numeric',)\n",
      "[0.545062])\n"
     ]
    }
   ],
   "source": [
    "# Set seed and generate synthetic data in Python\n",
    "np.random.seed(299128)\n",
    "n = 5000\n",
    "Z = np.random.binomial(1, 0.5, size=n)\n",
    "U = np.random.binomial(1, 0.5, size=n)\n",
    "\n",
    "# X ~ Z + U\n",
    "logit_X = -1 + 1.5 * Z + 1.2 * U\n",
    "p_X = 1 / (1 + np.exp(-logit_X))\n",
    "X = np.random.binomial(1, p_X)\n",
    "\n",
    "# Y ~ X + U\n",
    "beta_X, beta_U = 1.0, 1.5\n",
    "logit_Y = -0.5 + beta_X * X + beta_U * U\n",
    "p_Y = 1 / (1 + np.exp(-logit_Y))\n",
    "Y = np.random.binomial(1, p_Y)\n",
    "\n",
    "df = pd.DataFrame({'Y': Y, 'X': X, 'Z': Z})\n",
    "\n",
    "# Ground truth ATE\n",
    "logit_Y1 = -0.5 + beta_X * 1 + beta_U * U\n",
    "logit_Y0 = -0.5 + beta_X * 0 + beta_U * U\n",
    "p_Y1 = 1 / (1 + np.exp(-logit_Y1))\n",
    "p_Y0 = 1 / (1 + np.exp(-logit_Y0))\n",
    "ATE_true = np.mean(p_Y1 - p_Y0)\n",
    "print(\"True ATE:\", ATE_true)\n",
    "\n",
    "\n",
    "graph_str = \"(Z -+ X, X -+ Y, Ur -+ X, Ur -+ Y)\"\n",
    "leftside = [1, 0, 0, 0]\n",
    "latent   = [0, 0, 0, 1]\n",
    "nvals    = [2, 2, 2, 2]\n",
    "rlconnect = [0, 0, 0, 0]\n",
    "monotone = [0, 0, 0, 0]\n",
    "\n",
    "prob_dict = extract_prob_dict(df)\n",
    "\n",
    "\n",
    "bounds = run_experiment(graph_str, leftside, latent, nvals, rlconnect, monotone, prob_dict)\n",
    "print(\"Bounds:\", bounds)"
   ]
  },
  {
   "cell_type": "markdown",
   "id": "13a30d85",
   "metadata": {},
   "source": [
    "#### Varying Synthetic Data"
   ]
  },
  {
   "cell_type": "code",
   "execution_count": 57,
   "id": "4804594d",
   "metadata": {},
   "outputs": [],
   "source": [
    "results = []\n",
    "\n",
    "n = 578740\n",
    "graph_str = \"(Z -+ X, X -+ Y, Ur -+ X, Ur -+ Y)\"\n",
    "leftside = [1, 0, 0, 0]\n",
    "latent   = [0, 0, 0, 1]\n",
    "nvals    = [2, 2, 2, 2]\n",
    "rlconnect = [0, 0, 0, 0]\n",
    "monotone = [0, 0, 0, 0]\n",
    "\n",
    "for i in range(10):\n",
    "    seed = np.random.randint(0, 1e6)\n",
    "    np.random.seed(seed)\n",
    "\n",
    "    # Random coefficients\n",
    "    b_Z = np.round(np.random.uniform(0.5, 200.0), 3)\n",
    "    b_U_X = np.round(np.random.uniform(0.5, 200.0), 3)\n",
    "    b_X_Y = np.round(np.random.uniform(0.5, 200.0), 3)\n",
    "    b_U_Y = np.round(np.random.uniform(0.5, 200.0), 3)\n",
    "\n",
    "    # Simulate data\n",
    "    Z = np.random.binomial(1, 0.5, size=n)\n",
    "    U = np.random.binomial(1, 0.5, size=n)\n",
    "\n",
    "    logit_X = -1 + b_Z * Z + b_U_X * U\n",
    "    p_X = 1 / (1 + np.exp(-logit_X))\n",
    "    X = np.random.binomial(1, p_X)\n",
    "\n",
    "    logit_Y = -0.5 + b_X_Y * X + b_U_Y * U\n",
    "    p_Y = 1 / (1 + np.exp(-logit_Y))\n",
    "    Y = np.random.binomial(1, p_Y)\n",
    "\n",
    "    # True ATE\n",
    "    logit_Y1 = -0.5 + b_X_Y * 1 + b_U_Y * U\n",
    "    logit_Y0 = -0.5 + b_X_Y * 0 + b_U_Y * U\n",
    "    p_Y1 = 1 / (1 + np.exp(-logit_Y1))\n",
    "    p_Y0 = 1 / (1 + np.exp(-logit_Y0))\n",
    "    ATE_true = np.mean(p_Y1 - p_Y0)\n",
    "\n",
    "    # Estimate bounds\n",
    "    df = pd.DataFrame({'Y': Y, 'X': X, 'Z': Z})\n",
    "    prob_dict = extract_prob_dict(df)\n",
    "    r_bounds = run_experiment(\n",
    "    graph_str, leftside, latent, nvals, rlconnect, monotone, prob_dict\n",
    "    )\n",
    "    bound_lower = float(r_bounds[0][0])\n",
    "    bound_upper = float(r_bounds[1][0])\n",
    "\n",
    "    # Save result\n",
    "    results.append({\n",
    "        'seed': seed,\n",
    "        'b_Z': b_Z,\n",
    "        'b_U_X': b_U_X,\n",
    "        'b_X_Y': b_X_Y,\n",
    "        'b_U_Y': b_U_Y,\n",
    "        'ATE_true': ATE_true,\n",
    "        'bound_lower': bound_lower,\n",
    "        'bound_upper': bound_upper\n",
    "    })"
   ]
  },
  {
   "cell_type": "code",
   "execution_count": 56,
   "id": "25ad317a",
   "metadata": {},
   "outputs": [
    {
     "name": "stdout",
     "output_type": "stream",
     "text": [
      "     seed      b_Z    b_U_X    b_X_Y    b_U_Y  ATE_true  bound_lower  \\\n",
      "0  838977   63.010   34.292   98.238  130.756  0.319820     0.381031   \n",
      "1  954840   57.411  194.924  195.118   99.650  0.315462     0.369048   \n",
      "2  299128  143.444    1.400  183.427   93.857  0.310732     0.565445   \n",
      "3  578740  132.778  156.233   55.240  134.273  0.307246     0.359903   \n",
      "4  889396   17.937    7.737   31.790   39.149  0.312475     0.367747   \n",
      "\n",
      "   bound_upper  \n",
      "0     0.694021  \n",
      "1     0.748413  \n",
      "2     0.330648  \n",
      "3     0.707729  \n",
      "4     0.719088  \n"
     ]
    }
   ],
   "source": [
    "df_results = pd.DataFrame(results)\n",
    "print(df_results.head())"
   ]
  },
  {
   "cell_type": "markdown",
   "id": "d71e4e21",
   "metadata": {},
   "source": [
    "#### Iteration testing area"
   ]
  },
  {
   "cell_type": "code",
   "execution_count": 110,
   "id": "7a00d7a8",
   "metadata": {},
   "outputs": [
    {
     "name": "stdout",
     "output_type": "stream",
     "text": [
      "Seed: 289586\n",
      "Coefficients:\n",
      "  b_Z: 0.908\n",
      "  b_U_X: 1.942\n",
      "  b_X_Y: 1.967\n",
      "  b_U_Y: 0.871\n",
      "True ATE: 0.37794317326984606\n",
      "Probabilities =1:\n",
      " p(Y=1): [0.91197567 0.91197567 0.37754067 ... 0.91197567 0.81260097 0.37754067]\n",
      " p(X=1): [0.8641271  0.8641271  0.47701621 ... 0.8641271  0.47701621 0.26894142]\n",
      "Bounds:\n",
      "  Lower: -0.1325433177613982\n",
      "  Upper: 0.7056929857810956\n"
     ]
    }
   ],
   "source": [
    "seed = np.random.randint(0, 1e6)\n",
    "np.random.seed(seed)\n",
    "\n",
    "# Random coefficients\n",
    "b_Z = np.round(np.random.uniform(0.5, 2.0), 3)\n",
    "b_U_X = np.round(np.random.uniform(0.5, 2.0), 3)\n",
    "b_X_Y = np.round(np.random.uniform(0.5, 2.0), 3)\n",
    "b_U_Y = np.round(np.random.uniform(0.5, 2.0), 3)\n",
    "\n",
    "# Simulate data\n",
    "Z = np.random.binomial(1, 0.5, size=n)\n",
    "U = np.random.binomial(1, 0.5, size=n)\n",
    "\n",
    "logit_X = -1 + b_Z * Z + b_U_X * U\n",
    "p_X = 1 / (1 + np.exp(-logit_X))\n",
    "X = np.random.binomial(1, p_X)\n",
    "\n",
    "logit_Y = -0.5 + b_X_Y * X + b_U_Y * U\n",
    "p_Y = 1 / (1 + np.exp(-logit_Y))\n",
    "Y = np.random.binomial(1, p_Y)\n",
    "\n",
    "# True ATE\n",
    "logit_Y1 = -0.5 + b_X_Y * 1 + b_U_Y * U\n",
    "logit_Y0 = -0.5 + b_X_Y * 0 + b_U_Y * U\n",
    "p_Y1 = 1 / (1 + np.exp(-logit_Y1))\n",
    "p_Y0 = 1 / (1 + np.exp(-logit_Y0))\n",
    "ATE_true = np.mean(p_Y1 - p_Y0)\n",
    "\n",
    "# Estimate bounds\n",
    "df = pd.DataFrame({'Y': Y, 'X': X, 'Z': Z})\n",
    "prob_dict = extract_prob_dict(df)\n",
    "r_bounds = run_experiment(\n",
    "graph_str, leftside, latent, nvals, rlconnect, monotone, prob_dict\n",
    ")\n",
    "bound_lower = float(r_bounds[0][0])\n",
    "bound_upper = float(r_bounds[1][0])\n",
    "\n",
    "print(f\"Seed: {seed}\")\n",
    "print(f\"Coefficients:\")\n",
    "print(f\"  b_Z: {b_Z}\")\n",
    "print(f\"  b_U_X: {b_U_X}\")\n",
    "print(f\"  b_X_Y: {b_X_Y}\")\n",
    "print(f\"  b_U_Y: {b_U_Y}\")\n",
    "print(f\"True ATE: {ATE_true}\")\n",
    "print(f\"Probabilities =1:\")\n",
    "print(f\" p(Y=1): {p_Y}\")\n",
    "print(f\" p(X=1): {p_X}\")\n",
    "\n",
    "print(f\"Bounds:\")\n",
    "print(f\"  Lower: {bound_lower}\")\n",
    "print(f\"  Upper: {bound_upper}\")"
   ]
  }
 ],
 "metadata": {
  "kernelspec": {
   "display_name": "Python 3",
   "language": "python",
   "name": "python3"
  },
  "language_info": {
   "codemirror_mode": {
    "name": "ipython",
    "version": 3
   },
   "file_extension": ".py",
   "mimetype": "text/x-python",
   "name": "python",
   "nbconvert_exporter": "python",
   "pygments_lexer": "ipython3",
   "version": "3.12.6"
  }
 },
 "nbformat": 4,
 "nbformat_minor": 5
}
